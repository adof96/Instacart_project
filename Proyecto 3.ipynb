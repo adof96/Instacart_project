{
 "cells": [
  {
   "cell_type": "markdown",
   "id": "1d19cf48",
   "metadata": {},
   "source": [
    "# Hola Angel!\n",
    "\n",
    "Mi nombre es David Bautista, soy code reviewer de TripleTen y voy a revisar el proyecto que acabas de desarrollar.\n",
    "\n",
    "Cuando vea un error la pri\n",
    "mera vez, lo señalaré. Deberás encontrarlo y arreglarlo. La intención es que te prepares para un espacio real de trabajo. En un trabajo, el líder de tu equipo hará lo mismo. Si no puedes solucionar el error, te daré más información en la próxima ocasión.\n",
    "\n",
    "Encontrarás mis comentarios más abajo - **por favor, no los muevas, no los modifiques ni los borres.**\n",
    "\n",
    "¿Cómo lo voy a hacer? Voy a leer detenidamente cada una de las implementaciones que has llevado a cabo para cumplir con lo solicitado. Verás los comentarios de esta forma:\n",
    "\n",
    "<div class=\"alert alert-block alert-success\">\n",
    "<b>Comentario del revisor</b> <a class=\"tocSkip\"></a>\n",
    "    \n",
    "Si todo está perfecto.\n",
    "</div>\n",
    "\n",
    "\n",
    "<div class=\"alert alert-block alert-warning\">\n",
    "<b>Comentario del revisor</b> <a class=\"tocSkip\"></a>\n",
    "    \n",
    "Si tu código está bien pero se puede mejorar o hay algún detalle que le hace falta.\n",
    "</div>\n",
    "\n",
    "\n",
    "<div class=\"alert alert-block alert-danger\">\n",
    "    \n",
    "<b>Comentario del revisor</b> <a class=\"tocSkip\"></a>\n",
    "    \n",
    "    \n",
    "Si de pronto hace falta algo o existe algún problema con tu código o conclusiones.\n",
    "</div>\n",
    "\n",
    "\n",
    "Puedes responderme de esta forma: \n",
    "\n",
    "<div class=\"alert alert-block alert-info\">\n",
    "<b>Respuesta del estudiante</b> <a class=\"tocSkip\"></a>\n",
    "</div>\n",
    "\n",
    "¡Empecemos!"
   ]
  },
  {
   "cell_type": "markdown",
   "id": "3Xg_RQfnafXz",
   "metadata": {
    "id": "3Xg_RQfnafXz"
   },
   "source": [
    "# ¡Llena ese carrito!"
   ]
  },
  {
   "cell_type": "markdown",
   "id": "mhIvmmkW414q",
   "metadata": {
    "id": "mhIvmmkW414q"
   },
   "source": [
    "# Introducción\n",
    "\n",
    "Instacart es una plataforma de entregas de comestibles donde la clientela puede registrar un pedido y hacer que se lo entreguen, similar a Uber Eats y Door Dash.\n",
    "El conjunto de datos que te hemos proporcionado tiene modificaciones del original. Redujimos el tamaño del conjunto para que tus cálculos se hicieran más rápido e introdujimos valores ausentes y duplicados. Tuvimos cuidado de conservar las distribuciones de los datos originales cuando hicimos los cambios.\n",
    "\n",
    "Debes completar tres pasos. Para cada uno de ellos, escribe una breve introducción que refleje con claridad cómo pretendes resolver cada paso, y escribe párrafos explicatorios que justifiquen tus decisiones al tiempo que avanzas en tu solución.  También escribe una conclusión que resuma tus hallazgos y elecciones.\n"
   ]
  },
  {
   "cell_type": "markdown",
   "id": "3MbyzpOQZ5Or",
   "metadata": {
    "id": "3MbyzpOQZ5Or"
   },
   "source": [
    "## Diccionario de datos\n",
    "\n",
    "Hay cinco tablas en el conjunto de datos, y tendrás que usarlas todas para hacer el preprocesamiento de datos y el análisis exploratorio de datos. A continuación se muestra un diccionario de datos que enumera las columnas de cada tabla y describe los datos que contienen.\n",
    "\n",
    "- `instacart_orders.csv`: cada fila corresponde a un pedido en la aplicación Instacart.\n",
    "    - `'order_id'`: número de ID que identifica de manera única cada pedido.\n",
    "    - `'user_id'`: número de ID que identifica de manera única la cuenta de cada cliente.\n",
    "    - `'order_number'`: el número de veces que este cliente ha hecho un pedido.\n",
    "    - `'order_dow'`: día de la semana en que se hizo el pedido (0 si es domingo).\n",
    "    - `'order_hour_of_day'`: hora del día en que se hizo el pedido.\n",
    "    - `'days_since_prior_order'`: número de días transcurridos desde que este cliente hizo su pedido anterior.\n",
    "- `products.csv`: cada fila corresponde a un producto único que pueden comprar los clientes.\n",
    "    - `'product_id'`: número ID que identifica de manera única cada producto.\n",
    "    - `'product_name'`: nombre del producto.\n",
    "    - `'aisle_id'`: número ID que identifica de manera única cada categoría de pasillo de víveres.\n",
    "    - `'department_id'`: número ID que identifica de manera única cada departamento de víveres.\n",
    "- `order_products.csv`: cada fila corresponde a un artículo pedido en un pedido.\n",
    "    - `'order_id'`: número de ID que identifica de manera única cada pedido.\n",
    "    - `'product_id'`: número ID que identifica de manera única cada producto.\n",
    "    - `'add_to_cart_order'`: el orden secuencial en el que se añadió cada artículo en el carrito.\n",
    "    - `'reordered'`: 0 si el cliente nunca ha pedido este producto antes, 1 si lo ha pedido.\n",
    "- `aisles.csv`\n",
    "    - `'aisle_id'`: número ID que identifica de manera única cada categoría de pasillo de víveres.\n",
    "    - `'aisle'`: nombre del pasillo.\n",
    "- `departments.csv`\n",
    "    - `'department_id'`: número ID que identifica de manera única cada departamento de víveres.\n",
    "    - `'department'`: nombre del departamento."
   ]
  },
  {
   "cell_type": "markdown",
   "id": "056f26e7",
   "metadata": {},
   "source": [
    "<div class=\"alert alert-block alert-danger\">\n",
    "<b>Comentario del revisor</b> <a class=\"tocSkip\"></a>\n",
    "    \n",
    "~~Hola Esteban, buen trabajo con la introducción del proyecto. Por otro lado, sería interesante poder explorar la creación de una tabla de contenido que muestre al lector las diferentes secciones que se piensan desarrollar dentro del proyecto.~~\n",
    "</div>\n"
   ]
  },
  {
   "cell_type": "markdown",
   "id": "40b7bd36",
   "metadata": {},
   "source": [
    "Disculpa, como se haria dicha tabla? me puedes dar una guia?"
   ]
  },
  {
   "cell_type": "markdown",
   "id": "d479ab2b",
   "metadata": {},
   "source": [
    "<div class=\"alert alert-block alert-danger\">\n",
    "<b>Comentario del revisor #2</b> <a class=\"tocSkip\"></a>\n",
    "    \n",
    "~~Hola esteban, puede ser una tabla muy sencilla, tal que asi (ejemplo):~~\n",
    "    \n",
    "- Tabla de Contenido\n",
    "    1. Descripcion del proyecto\n",
    "    2. Procesamiento\n",
    "</div>\n"
   ]
  },
  {
   "cell_type": "markdown",
   "id": "0ef5e93b",
   "metadata": {},
   "source": [
    "<div class=\"alert alert-block alert-success\">\n",
    "<b>Comentario del revisor #3</b> <a class=\"tocSkip\"></a>\n",
    "    \n",
    "Buen trabajo.</div>"
   ]
  },
  {
   "cell_type": "markdown",
   "id": "72095fec",
   "metadata": {},
   "source": [
    "\n",
    "\n",
    "- Tabla de contenido\n",
    "\n",
    "  1. Descripción de los datos \n",
    "    \n",
    "    1.2 Plan de solucion\n",
    "    \n",
    "    1.3 Conclusiones\n",
    "    \n",
    "    \n",
    "  2. Procesamiento de datos\n",
    "  \n",
    "    2.4 Plan de solucion\n",
    "    \n",
    "    2.5 Encuentra y elimina los valores duplicados\n",
    "    \n",
    "       2.5.1 Orders data frame\n",
    "       \n",
    "       2.5.2 products data frame\n",
    "       \n",
    "       2.5.3 deparments data frame\n",
    "       \n",
    "       2.5.4 aisles data frame\n",
    "       \n",
    "       2.5.5 order_products data frame\n",
    "       \n",
    "    2.6 Encuentra y elimina los valores ausentes\n",
    "    \n",
    "       2.6.1 products data frame\n",
    "       \n",
    "       2.6.2 orders data frame\n",
    "       \n",
    "       2.6.3 order_products data frame\n",
    "       \n",
    "       \n",
    "    2.7 Conclusiones\n",
    "    \n",
    "    \n",
    "  3. Análisis de los datos\n",
    "  \n",
    "         3.7.1 Verifica que los valores sean sensibles\n",
    "    \n",
    "   \n",
    "         3.7.2 Para cada hora del día, ¿cuántas personas hacen órdenes?\n",
    "    \n",
    "         3.7.3 ¿Qué día de la semana compran víveres las personas?\n",
    "    \n",
    "         3.7.4 ¿Cuánto tiempo esperan las personas hasta hacer otro pedido? Comenta sobre los valores mínimos y máximos.\n",
    "    \n",
    "         3.7.5 Diferencia entre miércoles y sábados para 'order_hour_of_day'. Traza gráficos de barra para los dos días y describe las diferencias que veas.\n",
    "    \n",
    "         3.7.6 ¿Cuál es la distribución para el número de pedidos por cliente?\n",
    "    \n",
    "         3.7.7 ¿Cuáles son los 20 productos más populares (muestra su ID y nombre)?\n",
    "    \n",
    "         3.7.8 ¿Cuántos artículos compran normalmente las personas en un pedido? ¿Cómo es la distribución?\n",
    "    \n",
    "         3.7.9 ¿Cuáles son los 20 principales artículos que vuelven a pedirse con mayor frecuencia (muestra sus nombres e IDs de los productos)?\n",
    "    \n",
    "         3.7.10 Para cada producto, ¿cuál es la proporción de las veces que se pide y que se vuelve a pedir?\n",
    "    \n",
    "         3.7.11 Para cada cliente, ¿qué proporción de sus productos ya los había pedido?\n",
    "    \n",
    "         3.7.12 ¿Cuáles son los 20 principales artículos que las personas ponen primero en sus carritos?\n",
    "    \n",
    "         3.7.13 Conclusion general del proyecto.\n",
    "    "
   ]
  },
  {
   "cell_type": "markdown",
   "id": "a18b31c0",
   "metadata": {},
   "source": [
    "<div class=\"alert alert-block alert-info\">\n",
    "<b>no se como hacer para que permanezca el formato que tengo dentro del kernel antes de darle Run, se me mueve todo </b> <a class=\"tocSkip\"></a>\n",
    "</div>"
   ]
  },
  {
   "cell_type": "markdown",
   "id": "n3Ha_cNSZ8lK",
   "metadata": {
    "id": "n3Ha_cNSZ8lK"
   },
   "source": [
    "# Paso 1. Descripción de los datos\n",
    "\n",
    "Lee los archivos de datos (`/datasets/instacart_orders.csv`, `/datasets/products.csv`, `/datasets/aisles.csv`, `/datasets/departments.csv` y `/datasets/order_products.csv`) con `pd.read_csv()` usando los parámetros adecuados para leer los datos correctamente. Verifica la información para cada DataFrame creado.\n"
   ]
  },
  {
   "cell_type": "markdown",
   "id": "OmlQPLlyaAfR",
   "metadata": {
    "id": "OmlQPLlyaAfR"
   },
   "source": [
    "## Plan de solución\n",
    "\n",
    "Lo primero que haremos sera ir leyendo los dfs uno por uno con su encabezado para ir determinando que parametros necesitan ser aplicados para que se lean correctamnete. Una vez hecho esto, aplicamos .info() a cada df para ver su contenido de cada uno"
   ]
  },
  {
   "cell_type": "markdown",
   "id": "d031b7e9",
   "metadata": {},
   "source": [
    "<div class=\"alert alert-block alert-danger\">\n",
    "<b>Comentario del revisor</b> <a class=\"tocSkip\"></a>\n",
    "    \n",
    "~~Recuerda que el ideal es que al principio del proyecto se importen todas las librerías necesarias para el desarrollo del proyecto. Me he fijado que importas librerías en diferentes secciones, por favor revisa eso.~~\n",
    "</div>"
   ]
  },
  {
   "cell_type": "code",
   "execution_count": 1,
   "id": "fbf1adab",
   "metadata": {
    "id": "fbf1adab",
    "scrolled": true
   },
   "outputs": [],
   "source": [
    "import pandas as pd\n",
    "from matplotlib import pyplot as plt\n",
    "\n"
   ]
  },
  {
   "cell_type": "code",
   "execution_count": 2,
   "id": "1b7f3a46",
   "metadata": {},
   "outputs": [],
   "source": [
    "df_orders = pd.read_csv('/datasets/instacart_orders.csv', sep= ';' )\n",
    "df_products= pd.read_csv('/datasets/products.csv', sep= ';')\n",
    "df_aisles= pd.read_csv('/datasets/aisles.csv', sep=';')\n",
    "df_deparm= pd.read_csv('/datasets/departments.csv', sep=';')\n",
    "df_or_pr= pd.read_csv('/datasets/order_products.csv', sep=';')"
   ]
  },
  {
   "cell_type": "markdown",
   "id": "6c3ad243",
   "metadata": {},
   "source": [
    "<div class=\"alert alert-block alert-danger\">\n",
    "<b>Comentario del revisor</b> <a class=\"tocSkip\"></a>\n",
    "    \n",
    "~~Buen trabajo con la carga de los datos; sin embargo, debes tener en cuenta el comentario anterior. Por otro lado, el ``print()`` trata de dejarlo en una celda de código diferente.~~\n",
    "</div>"
   ]
  },
  {
   "cell_type": "markdown",
   "id": "e5cf0de8",
   "metadata": {},
   "source": [
    "<div class=\"alert alert-block alert-danger\">\n",
    "<b>Comentario del revisor #2</b> <a class=\"tocSkip\"></a>\n",
    "    \n",
    "~~El ideal es que puedas dejar en celdas de código diferentes la importación de librerías y el cargue de los datos.~~\n",
    "</div>\n"
   ]
  },
  {
   "cell_type": "markdown",
   "id": "34f807a6",
   "metadata": {},
   "source": [
    "<div class=\"alert alert-block alert-success\">\n",
    "<b>Comentario del revisor #3</b> <a class=\"tocSkip\"></a>\n",
    "    \n",
    "Buen trabajo.</div>"
   ]
  },
  {
   "cell_type": "markdown",
   "id": "8168958f",
   "metadata": {
    "id": "ad36396d"
   },
   "source": [
    "### leer conjuntos de datos en los DataFrames"
   ]
  },
  {
   "cell_type": "code",
   "execution_count": 3,
   "id": "ad6a1efa",
   "metadata": {
    "id": "ad6a1efa"
   },
   "outputs": [
    {
     "name": "stdout",
     "output_type": "stream",
     "text": [
      "<class 'pandas.core.frame.DataFrame'>\n",
      "RangeIndex: 478967 entries, 0 to 478966\n",
      "Data columns (total 6 columns):\n",
      " #   Column                  Non-Null Count   Dtype  \n",
      "---  ------                  --------------   -----  \n",
      " 0   order_id                478967 non-null  int64  \n",
      " 1   user_id                 478967 non-null  int64  \n",
      " 2   order_number            478967 non-null  int64  \n",
      " 3   order_dow               478967 non-null  int64  \n",
      " 4   order_hour_of_day       478967 non-null  int64  \n",
      " 5   days_since_prior_order  450148 non-null  float64\n",
      "dtypes: float64(1), int64(5)\n",
      "memory usage: 21.9 MB\n"
     ]
    },
    {
     "data": {
      "text/html": [
       "<div>\n",
       "<style scoped>\n",
       "    .dataframe tbody tr th:only-of-type {\n",
       "        vertical-align: middle;\n",
       "    }\n",
       "\n",
       "    .dataframe tbody tr th {\n",
       "        vertical-align: top;\n",
       "    }\n",
       "\n",
       "    .dataframe thead th {\n",
       "        text-align: right;\n",
       "    }\n",
       "</style>\n",
       "<table border=\"1\" class=\"dataframe\">\n",
       "  <thead>\n",
       "    <tr style=\"text-align: right;\">\n",
       "      <th></th>\n",
       "      <th>order_id</th>\n",
       "      <th>user_id</th>\n",
       "      <th>order_number</th>\n",
       "      <th>order_dow</th>\n",
       "      <th>order_hour_of_day</th>\n",
       "      <th>days_since_prior_order</th>\n",
       "    </tr>\n",
       "  </thead>\n",
       "  <tbody>\n",
       "    <tr>\n",
       "      <th>0</th>\n",
       "      <td>1515936</td>\n",
       "      <td>183418</td>\n",
       "      <td>11</td>\n",
       "      <td>6</td>\n",
       "      <td>13</td>\n",
       "      <td>30.0</td>\n",
       "    </tr>\n",
       "    <tr>\n",
       "      <th>1</th>\n",
       "      <td>1690866</td>\n",
       "      <td>163593</td>\n",
       "      <td>5</td>\n",
       "      <td>5</td>\n",
       "      <td>12</td>\n",
       "      <td>9.0</td>\n",
       "    </tr>\n",
       "    <tr>\n",
       "      <th>2</th>\n",
       "      <td>1454967</td>\n",
       "      <td>39980</td>\n",
       "      <td>4</td>\n",
       "      <td>5</td>\n",
       "      <td>19</td>\n",
       "      <td>2.0</td>\n",
       "    </tr>\n",
       "    <tr>\n",
       "      <th>3</th>\n",
       "      <td>1768857</td>\n",
       "      <td>82516</td>\n",
       "      <td>56</td>\n",
       "      <td>0</td>\n",
       "      <td>20</td>\n",
       "      <td>10.0</td>\n",
       "    </tr>\n",
       "    <tr>\n",
       "      <th>4</th>\n",
       "      <td>3007858</td>\n",
       "      <td>196724</td>\n",
       "      <td>2</td>\n",
       "      <td>4</td>\n",
       "      <td>12</td>\n",
       "      <td>17.0</td>\n",
       "    </tr>\n",
       "  </tbody>\n",
       "</table>\n",
       "</div>"
      ],
      "text/plain": [
       "   order_id  user_id  order_number  order_dow  order_hour_of_day  \\\n",
       "0   1515936   183418            11          6                 13   \n",
       "1   1690866   163593             5          5                 12   \n",
       "2   1454967    39980             4          5                 19   \n",
       "3   1768857    82516            56          0                 20   \n",
       "4   3007858   196724             2          4                 12   \n",
       "\n",
       "   days_since_prior_order  \n",
       "0                    30.0  \n",
       "1                     9.0  \n",
       "2                     2.0  \n",
       "3                    10.0  \n",
       "4                    17.0  "
      ]
     },
     "execution_count": 3,
     "metadata": {},
     "output_type": "execute_result"
    }
   ],
   "source": [
    "df_orders.info()\n",
    "df_orders.head()"
   ]
  },
  {
   "cell_type": "code",
   "execution_count": 4,
   "id": "5130e05e",
   "metadata": {
    "id": "5130e05e"
   },
   "outputs": [
    {
     "name": "stdout",
     "output_type": "stream",
     "text": [
      "<class 'pandas.core.frame.DataFrame'>\n",
      "RangeIndex: 49694 entries, 0 to 49693\n",
      "Data columns (total 4 columns):\n",
      " #   Column         Non-Null Count  Dtype \n",
      "---  ------         --------------  ----- \n",
      " 0   product_id     49694 non-null  int64 \n",
      " 1   product_name   48436 non-null  object\n",
      " 2   aisle_id       49694 non-null  int64 \n",
      " 3   department_id  49694 non-null  int64 \n",
      "dtypes: int64(3), object(1)\n",
      "memory usage: 1.5+ MB\n"
     ]
    },
    {
     "data": {
      "text/html": [
       "<div>\n",
       "<style scoped>\n",
       "    .dataframe tbody tr th:only-of-type {\n",
       "        vertical-align: middle;\n",
       "    }\n",
       "\n",
       "    .dataframe tbody tr th {\n",
       "        vertical-align: top;\n",
       "    }\n",
       "\n",
       "    .dataframe thead th {\n",
       "        text-align: right;\n",
       "    }\n",
       "</style>\n",
       "<table border=\"1\" class=\"dataframe\">\n",
       "  <thead>\n",
       "    <tr style=\"text-align: right;\">\n",
       "      <th></th>\n",
       "      <th>product_id</th>\n",
       "      <th>product_name</th>\n",
       "      <th>aisle_id</th>\n",
       "      <th>department_id</th>\n",
       "    </tr>\n",
       "  </thead>\n",
       "  <tbody>\n",
       "    <tr>\n",
       "      <th>0</th>\n",
       "      <td>1</td>\n",
       "      <td>Chocolate Sandwich Cookies</td>\n",
       "      <td>61</td>\n",
       "      <td>19</td>\n",
       "    </tr>\n",
       "    <tr>\n",
       "      <th>1</th>\n",
       "      <td>2</td>\n",
       "      <td>All-Seasons Salt</td>\n",
       "      <td>104</td>\n",
       "      <td>13</td>\n",
       "    </tr>\n",
       "    <tr>\n",
       "      <th>2</th>\n",
       "      <td>3</td>\n",
       "      <td>Robust Golden Unsweetened Oolong Tea</td>\n",
       "      <td>94</td>\n",
       "      <td>7</td>\n",
       "    </tr>\n",
       "    <tr>\n",
       "      <th>3</th>\n",
       "      <td>4</td>\n",
       "      <td>Smart Ones Classic Favorites Mini Rigatoni Wit...</td>\n",
       "      <td>38</td>\n",
       "      <td>1</td>\n",
       "    </tr>\n",
       "    <tr>\n",
       "      <th>4</th>\n",
       "      <td>5</td>\n",
       "      <td>Green Chile Anytime Sauce</td>\n",
       "      <td>5</td>\n",
       "      <td>13</td>\n",
       "    </tr>\n",
       "  </tbody>\n",
       "</table>\n",
       "</div>"
      ],
      "text/plain": [
       "   product_id                                       product_name  aisle_id  \\\n",
       "0           1                         Chocolate Sandwich Cookies        61   \n",
       "1           2                                   All-Seasons Salt       104   \n",
       "2           3               Robust Golden Unsweetened Oolong Tea        94   \n",
       "3           4  Smart Ones Classic Favorites Mini Rigatoni Wit...        38   \n",
       "4           5                          Green Chile Anytime Sauce         5   \n",
       "\n",
       "   department_id  \n",
       "0             19  \n",
       "1             13  \n",
       "2              7  \n",
       "3              1  \n",
       "4             13  "
      ]
     },
     "execution_count": 4,
     "metadata": {},
     "output_type": "execute_result"
    }
   ],
   "source": [
    "df_products.info()\n",
    "df_products.head()"
   ]
  },
  {
   "cell_type": "code",
   "execution_count": 5,
   "id": "d8370c05",
   "metadata": {
    "id": "d8370c05"
   },
   "outputs": [
    {
     "name": "stdout",
     "output_type": "stream",
     "text": [
      "<class 'pandas.core.frame.DataFrame'>\n",
      "RangeIndex: 134 entries, 0 to 133\n",
      "Data columns (total 2 columns):\n",
      " #   Column    Non-Null Count  Dtype \n",
      "---  ------    --------------  ----- \n",
      " 0   aisle_id  134 non-null    int64 \n",
      " 1   aisle     134 non-null    object\n",
      "dtypes: int64(1), object(1)\n",
      "memory usage: 2.2+ KB\n"
     ]
    },
    {
     "data": {
      "text/html": [
       "<div>\n",
       "<style scoped>\n",
       "    .dataframe tbody tr th:only-of-type {\n",
       "        vertical-align: middle;\n",
       "    }\n",
       "\n",
       "    .dataframe tbody tr th {\n",
       "        vertical-align: top;\n",
       "    }\n",
       "\n",
       "    .dataframe thead th {\n",
       "        text-align: right;\n",
       "    }\n",
       "</style>\n",
       "<table border=\"1\" class=\"dataframe\">\n",
       "  <thead>\n",
       "    <tr style=\"text-align: right;\">\n",
       "      <th></th>\n",
       "      <th>aisle_id</th>\n",
       "      <th>aisle</th>\n",
       "    </tr>\n",
       "  </thead>\n",
       "  <tbody>\n",
       "    <tr>\n",
       "      <th>0</th>\n",
       "      <td>1</td>\n",
       "      <td>prepared soups salads</td>\n",
       "    </tr>\n",
       "    <tr>\n",
       "      <th>1</th>\n",
       "      <td>2</td>\n",
       "      <td>specialty cheeses</td>\n",
       "    </tr>\n",
       "    <tr>\n",
       "      <th>2</th>\n",
       "      <td>3</td>\n",
       "      <td>energy granola bars</td>\n",
       "    </tr>\n",
       "    <tr>\n",
       "      <th>3</th>\n",
       "      <td>4</td>\n",
       "      <td>instant foods</td>\n",
       "    </tr>\n",
       "    <tr>\n",
       "      <th>4</th>\n",
       "      <td>5</td>\n",
       "      <td>marinades meat preparation</td>\n",
       "    </tr>\n",
       "  </tbody>\n",
       "</table>\n",
       "</div>"
      ],
      "text/plain": [
       "   aisle_id                       aisle\n",
       "0         1       prepared soups salads\n",
       "1         2           specialty cheeses\n",
       "2         3         energy granola bars\n",
       "3         4               instant foods\n",
       "4         5  marinades meat preparation"
      ]
     },
     "execution_count": 5,
     "metadata": {},
     "output_type": "execute_result"
    }
   ],
   "source": [
    "df_aisles.info()\n",
    "df_aisles.head()"
   ]
  },
  {
   "cell_type": "code",
   "execution_count": 6,
   "id": "59e2090f",
   "metadata": {
    "id": "59e2090f"
   },
   "outputs": [
    {
     "name": "stdout",
     "output_type": "stream",
     "text": [
      "<class 'pandas.core.frame.DataFrame'>\n",
      "RangeIndex: 21 entries, 0 to 20\n",
      "Data columns (total 2 columns):\n",
      " #   Column         Non-Null Count  Dtype \n",
      "---  ------         --------------  ----- \n",
      " 0   department_id  21 non-null     int64 \n",
      " 1   department     21 non-null     object\n",
      "dtypes: int64(1), object(1)\n",
      "memory usage: 464.0+ bytes\n"
     ]
    },
    {
     "data": {
      "text/html": [
       "<div>\n",
       "<style scoped>\n",
       "    .dataframe tbody tr th:only-of-type {\n",
       "        vertical-align: middle;\n",
       "    }\n",
       "\n",
       "    .dataframe tbody tr th {\n",
       "        vertical-align: top;\n",
       "    }\n",
       "\n",
       "    .dataframe thead th {\n",
       "        text-align: right;\n",
       "    }\n",
       "</style>\n",
       "<table border=\"1\" class=\"dataframe\">\n",
       "  <thead>\n",
       "    <tr style=\"text-align: right;\">\n",
       "      <th></th>\n",
       "      <th>department_id</th>\n",
       "      <th>department</th>\n",
       "    </tr>\n",
       "  </thead>\n",
       "  <tbody>\n",
       "    <tr>\n",
       "      <th>0</th>\n",
       "      <td>1</td>\n",
       "      <td>frozen</td>\n",
       "    </tr>\n",
       "    <tr>\n",
       "      <th>1</th>\n",
       "      <td>2</td>\n",
       "      <td>other</td>\n",
       "    </tr>\n",
       "    <tr>\n",
       "      <th>2</th>\n",
       "      <td>3</td>\n",
       "      <td>bakery</td>\n",
       "    </tr>\n",
       "    <tr>\n",
       "      <th>3</th>\n",
       "      <td>4</td>\n",
       "      <td>produce</td>\n",
       "    </tr>\n",
       "    <tr>\n",
       "      <th>4</th>\n",
       "      <td>5</td>\n",
       "      <td>alcohol</td>\n",
       "    </tr>\n",
       "  </tbody>\n",
       "</table>\n",
       "</div>"
      ],
      "text/plain": [
       "   department_id department\n",
       "0              1     frozen\n",
       "1              2      other\n",
       "2              3     bakery\n",
       "3              4    produce\n",
       "4              5    alcohol"
      ]
     },
     "execution_count": 6,
     "metadata": {},
     "output_type": "execute_result"
    }
   ],
   "source": [
    "df_deparm.info()\n",
    "df_deparm.head()"
   ]
  },
  {
   "cell_type": "code",
   "execution_count": 7,
   "id": "6fc81694",
   "metadata": {
    "id": "6fc81694"
   },
   "outputs": [
    {
     "name": "stdout",
     "output_type": "stream",
     "text": [
      "<class 'pandas.core.frame.DataFrame'>\n",
      "RangeIndex: 4545007 entries, 0 to 4545006\n",
      "Data columns (total 4 columns):\n",
      " #   Column             Non-Null Count    Dtype  \n",
      "---  ------             --------------    -----  \n",
      " 0   order_id           4545007 non-null  int64  \n",
      " 1   product_id         4545007 non-null  int64  \n",
      " 2   add_to_cart_order  4544171 non-null  float64\n",
      " 3   reordered          4545007 non-null  int64  \n",
      "dtypes: float64(1), int64(3)\n",
      "memory usage: 138.7 MB\n"
     ]
    },
    {
     "data": {
      "text/html": [
       "<div>\n",
       "<style scoped>\n",
       "    .dataframe tbody tr th:only-of-type {\n",
       "        vertical-align: middle;\n",
       "    }\n",
       "\n",
       "    .dataframe tbody tr th {\n",
       "        vertical-align: top;\n",
       "    }\n",
       "\n",
       "    .dataframe thead th {\n",
       "        text-align: right;\n",
       "    }\n",
       "</style>\n",
       "<table border=\"1\" class=\"dataframe\">\n",
       "  <thead>\n",
       "    <tr style=\"text-align: right;\">\n",
       "      <th></th>\n",
       "      <th>order_id</th>\n",
       "      <th>product_id</th>\n",
       "      <th>add_to_cart_order</th>\n",
       "      <th>reordered</th>\n",
       "    </tr>\n",
       "  </thead>\n",
       "  <tbody>\n",
       "    <tr>\n",
       "      <th>0</th>\n",
       "      <td>2141543</td>\n",
       "      <td>11440</td>\n",
       "      <td>17.0</td>\n",
       "      <td>0</td>\n",
       "    </tr>\n",
       "    <tr>\n",
       "      <th>1</th>\n",
       "      <td>567889</td>\n",
       "      <td>1560</td>\n",
       "      <td>1.0</td>\n",
       "      <td>1</td>\n",
       "    </tr>\n",
       "    <tr>\n",
       "      <th>2</th>\n",
       "      <td>2261212</td>\n",
       "      <td>26683</td>\n",
       "      <td>1.0</td>\n",
       "      <td>1</td>\n",
       "    </tr>\n",
       "    <tr>\n",
       "      <th>3</th>\n",
       "      <td>491251</td>\n",
       "      <td>8670</td>\n",
       "      <td>35.0</td>\n",
       "      <td>1</td>\n",
       "    </tr>\n",
       "    <tr>\n",
       "      <th>4</th>\n",
       "      <td>2571142</td>\n",
       "      <td>1940</td>\n",
       "      <td>5.0</td>\n",
       "      <td>1</td>\n",
       "    </tr>\n",
       "  </tbody>\n",
       "</table>\n",
       "</div>"
      ],
      "text/plain": [
       "   order_id  product_id  add_to_cart_order  reordered\n",
       "0   2141543       11440               17.0          0\n",
       "1    567889        1560                1.0          1\n",
       "2   2261212       26683                1.0          1\n",
       "3    491251        8670               35.0          1\n",
       "4   2571142        1940                5.0          1"
      ]
     },
     "execution_count": 7,
     "metadata": {},
     "output_type": "execute_result"
    }
   ],
   "source": [
    "df_or_pr.info(show_counts=True)\n",
    "df_or_pr.head()"
   ]
  },
  {
   "cell_type": "markdown",
   "id": "682d037e",
   "metadata": {},
   "source": [
    "<div class=\"alert alert-block alert-danger\">\n",
    "<b>Comentario del revisor</b> <a class=\"tocSkip\"></a>\n",
    "    \n",
    "~~Buen trabajo, sin embargo podrías agregar métodos como ``head()`` para que la exploración sea más interesante.~~\n",
    "</div>\n",
    "\n",
    "<div class=\"alert alert-block alert-success\">\n",
    "<b>Comentario del revisor #2</b> <a class=\"tocSkip\"></a>\n",
    "    \n",
    "Buen trabajo.</div>"
   ]
  },
  {
   "cell_type": "markdown",
   "id": "t75BD19oaR5f",
   "metadata": {
    "id": "t75BD19oaR5f"
   },
   "source": [
    "## Conclusiones\n",
    "\n",
    "Con info pudimos determinar que los data frame con valores nulos son df1,df2 y df5\n"
   ]
  },
  {
   "cell_type": "markdown",
   "id": "8RJHqxVmaVsF",
   "metadata": {
    "id": "8RJHqxVmaVsF"
   },
   "source": [
    "# Paso 2. Preprocesamiento de los datos\n",
    "\n",
    "Preprocesa los datos de la siguiente manera:\n",
    "\n",
    "- Verifica y corrige los tipos de datos (por ejemplo, asegúrate de que las columnas de ID sean números enteros).\n",
    "- Identifica y completa los valores ausentes.\n",
    "- Identifica y elimina los valores duplicados.\n",
    "\n",
    "Asegúrate de explicar qué tipos de valores ausentes y duplicados encontraste, cómo los completaste o eliminaste y por qué usaste esos métodos. ¿Por qué crees que estos valores ausentes y duplicados pueden haber estado presentes en el conjunto de datos?"
   ]
  },
  {
   "cell_type": "markdown",
   "id": "p6poABZQaZYb",
   "metadata": {
    "id": "p6poABZQaZYb"
   },
   "source": [
    "## Plan de solución\n",
    "\n",
    "Escribe aquí tu plan para el Paso 2. Preprocesamiento de los datos."
   ]
  },
  {
   "cell_type": "markdown",
   "id": "07357848-dc64-4156-9cc3-01ff4365226d",
   "metadata": {
    "id": "07357848-dc64-4156-9cc3-01ff4365226d"
   },
   "source": [
    "## Encuentra y elimina los valores duplicados (y describe cómo tomaste tus decisiones)."
   ]
  },
  {
   "cell_type": "markdown",
   "id": "f179f0a9",
   "metadata": {
    "id": "f179f0a9"
   },
   "source": [
    "### `orders` data frame"
   ]
  },
  {
   "cell_type": "code",
   "execution_count": 8,
   "id": "b99297a5-405a-463d-8535-9adc3da4ad74",
   "metadata": {
    "id": "b99297a5-405a-463d-8535-9adc3da4ad74",
    "scrolled": true
   },
   "outputs": [
    {
     "name": "stdout",
     "output_type": "stream",
     "text": [
      "2125197    2\n",
      "1782114    2\n",
      "1286742    2\n",
      "391768     2\n",
      "1021560    2\n",
      "          ..\n",
      "1273706    1\n",
      "689148     1\n",
      "1752059    1\n",
      "2794488    1\n",
      "2047       1\n",
      "Name: order_id, Length: 478952, dtype: int64\n",
      "15\n"
     ]
    }
   ],
   "source": [
    "print(df_orders['order_id'].value_counts(dropna=False))\n",
    "print(df_orders['order_id'].duplicated().sum())\n",
    "# Revisa si hay pedidos duplicados\n"
   ]
  },
  {
   "cell_type": "markdown",
   "id": "PEkwUX_gvt5A",
   "metadata": {
    "id": "PEkwUX_gvt5A"
   },
   "source": [
    "¿Tienes líneas duplicadas? Si sí, ¿qué tienen en común? Todos aparecen dos veces"
   ]
  },
  {
   "cell_type": "code",
   "execution_count": 9,
   "id": "0d44de5d",
   "metadata": {
    "id": "0d44de5d"
   },
   "outputs": [
    {
     "name": "stdout",
     "output_type": "stream",
     "text": [
      "        order_id  user_id  order_number  order_dow  order_hour_of_day  \\\n",
      "4838     2766110   162084            41          3                  2   \n",
      "5156     2190225   138285            18          3                  2   \n",
      "15506     553049    58599            13          3                  2   \n",
      "18420     382357   120200            19          3                  2   \n",
      "24691     690242    77357             2          3                  2   \n",
      "...          ...      ...           ...        ...                ...   \n",
      "457013   3384021    14881             6          3                  2   \n",
      "458816    910166   164782            18          3                  2   \n",
      "459635   1680532   106435             6          3                  2   \n",
      "468324    222962    54979            59          3                  2   \n",
      "477526   2592344    46860            38          3                  2   \n",
      "\n",
      "        days_since_prior_order  \n",
      "4838                      16.0  \n",
      "5156                      11.0  \n",
      "15506                      7.0  \n",
      "18420                     11.0  \n",
      "24691                      9.0  \n",
      "...                        ...  \n",
      "457013                    30.0  \n",
      "458816                     4.0  \n",
      "459635                    21.0  \n",
      "468324                     3.0  \n",
      "477526                     3.0  \n",
      "\n",
      "[121 rows x 6 columns]\n"
     ]
    }
   ],
   "source": [
    "# Basándote en tus hallazgos,\n",
    "# Verifica todos los pedidos que se hicieron el miércoles a las 2:00 a.m.\n",
    "mier_2am = df_orders[(df_orders['order_dow'] == 3) & (df_orders['order_hour_of_day'] == 2)]\n",
    "print(mier_2am)"
   ]
  },
  {
   "cell_type": "markdown",
   "id": "vu2OWyoqwOx5",
   "metadata": {
    "id": "vu2OWyoqwOx5"
   },
   "source": [
    "¿Qué sugiere este resultado?\n",
    "que los valores duplicados se encuentran en los valores de miercoles a las 2 am"
   ]
  },
  {
   "cell_type": "code",
   "execution_count": 10,
   "id": "480563c7",
   "metadata": {
    "id": "480563c7"
   },
   "outputs": [],
   "source": [
    "df_orders = df_orders.drop_duplicates().reset_index(drop=True)\n",
    "# Elimina los pedidos duplicados\n"
   ]
  },
  {
   "cell_type": "code",
   "execution_count": 11,
   "id": "0b2396a2",
   "metadata": {
    "id": "0b2396a2"
   },
   "outputs": [
    {
     "name": "stdout",
     "output_type": "stream",
     "text": [
      "0\n"
     ]
    }
   ],
   "source": [
    "print(df_orders.duplicated().sum())# Vuelve a verificar si hay filas duplicadas\n"
   ]
  },
  {
   "cell_type": "code",
   "execution_count": 12,
   "id": "f6113ef1",
   "metadata": {
    "id": "f6113ef1"
   },
   "outputs": [
    {
     "name": "stdout",
     "output_type": "stream",
     "text": [
      "0\n"
     ]
    }
   ],
   "source": [
    "print(df_orders['order_id'].duplicated().sum())# Vuelve a verificar únicamente si hay IDs duplicados de pedidos\n"
   ]
  },
  {
   "cell_type": "markdown",
   "id": "5e8905ae",
   "metadata": {
    "id": "5e8905ae"
   },
   "source": [
    "Describe brevemente tus hallazgos y lo que hiciste con ellos.\n",
    "\n",
    "Ya no quedan mas ordenes duplicadas, reseteamos index y hicimos la cuenta una vez nos deshicimos de los duplicados para verificar que todo esta en orden"
   ]
  },
  {
   "cell_type": "markdown",
   "id": "02b747af",
   "metadata": {},
   "source": [
    "<div class=\"alert alert-block alert-success\">\n",
    "<b>Comentario del revisor</b> <a class=\"tocSkip\"></a>\n",
    "    \n",
    "Excelente, muy buen trabajo lidiando con los duplicados de la tabla ``orders_df``</div>"
   ]
  },
  {
   "cell_type": "markdown",
   "id": "45e6bc46",
   "metadata": {
    "id": "45e6bc46"
   },
   "source": [
    "### `products` data frame"
   ]
  },
  {
   "cell_type": "code",
   "execution_count": 13,
   "id": "5f526b5b-8175-46fa-a0fd-441767d50e64",
   "metadata": {
    "id": "5f526b5b-8175-46fa-a0fd-441767d50e64"
   },
   "outputs": [
    {
     "name": "stdout",
     "output_type": "stream",
     "text": [
      "0\n"
     ]
    }
   ],
   "source": [
    "print(df_products.duplicated().sum())\n",
    "# Verifica si hay filas totalmente duplicadas\n"
   ]
  },
  {
   "cell_type": "code",
   "execution_count": 14,
   "id": "88daa4f4",
   "metadata": {
    "id": "88daa4f4"
   },
   "outputs": [
    {
     "name": "stdout",
     "output_type": "stream",
     "text": [
      "2049     1\n",
      "693      1\n",
      "4759     1\n",
      "27288    1\n",
      "25241    1\n",
      "        ..\n",
      "9550     1\n",
      "11599    1\n",
      "38232    1\n",
      "40281    1\n",
      "2047     1\n",
      "Name: product_id, Length: 49694, dtype: int64\n",
      "0\n"
     ]
    }
   ],
   "source": [
    "print(df_products['product_id'].value_counts(dropna=False))\n",
    "print(df_products['product_id'].duplicated().sum())  \n",
    "# Verifica únicamente si hay IDs duplicadas de productos\n"
   ]
  },
  {
   "cell_type": "code",
   "execution_count": 15,
   "id": "c773f0bf",
   "metadata": {
    "id": "c773f0bf"
   },
   "outputs": [
    {
     "name": "stdout",
     "output_type": "stream",
     "text": [
      "1361\n"
     ]
    }
   ],
   "source": [
    "df_products['product_name']=df_products['product_name'].str.upper()\n",
    "print(df_products['product_name'].duplicated().sum()) \n",
    "# Revisa únicamente si hay nombres duplicados de productos (convierte los nombres a letras mayúsculas para compararlos mejor)\n"
   ]
  },
  {
   "cell_type": "code",
   "execution_count": 16,
   "id": "01efd02e",
   "metadata": {
    "id": "01efd02e"
   },
   "outputs": [
    {
     "name": "stdout",
     "output_type": "stream",
     "text": [
      "104\n"
     ]
    }
   ],
   "source": [
    "dfpro_cleaned = df_products.dropna(subset=['product_name'])\n",
    "print(dfpro_cleaned['product_name'].duplicated().sum()) \n",
    "# Revisa si hay nombres duplicados de productos no faltantes\n"
   ]
  },
  {
   "cell_type": "markdown",
   "id": "9da8d293",
   "metadata": {
    "id": "9da8d293"
   },
   "source": [
    "Describe brevemente tus hallazgos y lo que hiciste con ellos.\n",
    "\n",
    "Es evidente que hay demasiados valores ausentes que hacen que parezca que hay muchos productos de nombres duplicaddos, pero al eliminar estos nos damos cuenta que aunque siguen siendo una cantidad considerable no es tan alarmante como el primer numero"
   ]
  },
  {
   "cell_type": "markdown",
   "id": "e8eacee9",
   "metadata": {},
   "source": [
    "<div class=\"alert alert-block alert-success\">\n",
    "<b>Comentario del revisor</b> <a class=\"tocSkip\"></a>\n",
    "    \n",
    "Excelente, muy buen trabajo lidiando con los duplicados de la tabla ``df_products``</div>"
   ]
  },
  {
   "cell_type": "markdown",
   "id": "60f30db1",
   "metadata": {
    "id": "60f30db1"
   },
   "source": [
    "### `departments` data frame"
   ]
  },
  {
   "cell_type": "code",
   "execution_count": 17,
   "id": "fb410ad4-0fbf-4b80-bb09-23fdea79afe3",
   "metadata": {
    "id": "fb410ad4-0fbf-4b80-bb09-23fdea79afe3"
   },
   "outputs": [
    {
     "name": "stdout",
     "output_type": "stream",
     "text": [
      "0\n"
     ]
    }
   ],
   "source": [
    "print(df_deparm.duplicated().sum())\n",
    "# Revisa si hay filas totalmente duplicadas"
   ]
  },
  {
   "cell_type": "code",
   "execution_count": 18,
   "id": "332b12bb",
   "metadata": {
    "id": "332b12bb"
   },
   "outputs": [
    {
     "name": "stdout",
     "output_type": "stream",
     "text": [
      "1     1\n",
      "12    1\n",
      "20    1\n",
      "19    1\n",
      "18    1\n",
      "17    1\n",
      "16    1\n",
      "15    1\n",
      "14    1\n",
      "13    1\n",
      "11    1\n",
      "2     1\n",
      "10    1\n",
      "9     1\n",
      "8     1\n",
      "7     1\n",
      "6     1\n",
      "5     1\n",
      "4     1\n",
      "3     1\n",
      "21    1\n",
      "Name: department_id, dtype: int64\n",
      "0\n"
     ]
    }
   ],
   "source": [
    "print(df_deparm['department_id'].value_counts(dropna=False))\n",
    "print(df_deparm['department_id'].duplicated().sum())  \n",
    "# Revisa únicamente si hay IDs duplicadas de productos"
   ]
  },
  {
   "cell_type": "markdown",
   "id": "bd30d78e",
   "metadata": {
    "id": "bd30d78e"
   },
   "source": [
    "Describe brevemente tus hallazgos y lo que hiciste con ellos.\n",
    "\n",
    "No hay duplicados en esta seccion por lo que todo bien, este es uno de los data frames mas pequeños por lo que es uno de los que menos problemas presenta, en data info tambien se pudo comprobar que ni siquiera cuenta con valores ausentes."
   ]
  },
  {
   "cell_type": "markdown",
   "id": "7c33a0e8",
   "metadata": {},
   "source": [
    "<div class=\"alert alert-block alert-danger\">\n",
    "<b>Comentario del revisor</b> <a class=\"tocSkip\"></a>\n",
    "    \n",
    "~~Buen trabajo estudiando el tema de los valores duplicados de la tabla ``df_departments``, podrían mejorar tus conclusiones sobre lo encontrado, por otro lado, no entiendo tu comentario sobre el método info() y la identificación de duplicados.~~ </div>"
   ]
  },
  {
   "cell_type": "markdown",
   "id": "92a13234",
   "metadata": {},
   "source": [
    "\n",
    "<div class=\"alert alert-block alert-success\">\n",
    "<b>Comentario del revisor #2</b> <a class=\"tocSkip\"></a>\n",
    "    \n",
    "Buen trabajo, ahora tienes toda la razón, usando el método ``info()`` podemos darnos cuenta es de la presencia o no de valores nulos.</div>"
   ]
  },
  {
   "cell_type": "markdown",
   "id": "889349c1",
   "metadata": {
    "id": "889349c1"
   },
   "source": [
    "### `aisles` data frame"
   ]
  },
  {
   "cell_type": "code",
   "execution_count": 18,
   "id": "9da89fb9-4679-40f5-ad0d-c34df753a3f8",
   "metadata": {
    "id": "9da89fb9-4679-40f5-ad0d-c34df753a3f8"
   },
   "outputs": [
    {
     "name": "stdout",
     "output_type": "stream",
     "text": [
      "0\n"
     ]
    }
   ],
   "source": [
    "print(df_aisles.duplicated().sum())\n",
    "# Revisa si hay filas totalmente duplicadas"
   ]
  },
  {
   "cell_type": "code",
   "execution_count": 19,
   "id": "da7c2822",
   "metadata": {
    "id": "da7c2822"
   },
   "outputs": [
    {
     "name": "stdout",
     "output_type": "stream",
     "text": [
      "1      1\n",
      "85     1\n",
      "99     1\n",
      "98     1\n",
      "97     1\n",
      "      ..\n",
      "40     1\n",
      "39     1\n",
      "38     1\n",
      "37     1\n",
      "134    1\n",
      "Name: aisle_id, Length: 134, dtype: int64\n",
      "0\n"
     ]
    }
   ],
   "source": [
    "print(df_aisles['aisle_id'].value_counts(dropna=False))\n",
    "print(df_aisles['aisle_id'].duplicated().sum()) \n",
    "# Revisa únicamente si hay IDs duplicadas de productos"
   ]
  },
  {
   "cell_type": "markdown",
   "id": "ac63826f",
   "metadata": {
    "id": "ac63826f"
   },
   "source": [
    "Describe brevemente tus hallazgos y lo que hiciste con ellos.\n",
    "\n",
    "No hay duplicados en esta seccion por lo que todo bien, esto ya se habia comprobado desde info()"
   ]
  },
  {
   "cell_type": "markdown",
   "id": "228919c5",
   "metadata": {},
   "source": [
    "<div class=\"alert alert-block alert-success\">\n",
    "<b>Comentario del revisor</b> <a class=\"tocSkip\"></a>\n",
    "    \n",
    "Excelente, muy buen trabajo estudiando el tema de los valores duplicados de la tabla ``df_ailes``</div>"
   ]
  },
  {
   "cell_type": "markdown",
   "id": "274cd06a",
   "metadata": {
    "id": "274cd06a"
   },
   "source": [
    "### `order_products` data frame"
   ]
  },
  {
   "cell_type": "code",
   "execution_count": 20,
   "id": "52326689-84a8-4b8f-a881-7c68780f62c9",
   "metadata": {
    "id": "52326689-84a8-4b8f-a881-7c68780f62c9"
   },
   "outputs": [
    {
     "name": "stdout",
     "output_type": "stream",
     "text": [
      "0\n"
     ]
    }
   ],
   "source": [
    "print(df_or_pr.duplicated().sum())\n",
    "# Revisa si hay filas totalmente duplicadas\n"
   ]
  },
  {
   "cell_type": "code",
   "execution_count": 21,
   "id": "7b861391",
   "metadata": {
    "id": "7b861391"
   },
   "outputs": [
    {
     "name": "stdout",
     "output_type": "stream",
     "text": [
      "4094961\n",
      "4499434\n",
      "4544942\n",
      "4545005\n"
     ]
    }
   ],
   "source": [
    "print(df_or_pr['order_id'].duplicated().sum())\n",
    "print(df_or_pr['product_id'].duplicated().sum())\n",
    "print(df_or_pr['add_to_cart_order'].duplicated().sum())\n",
    "print(df_or_pr['reordered'].duplicated().sum())\n",
    "# Vuelve a verificar si hay cualquier otro duplicado engañoso\n"
   ]
  },
  {
   "cell_type": "markdown",
   "id": "0b890492",
   "metadata": {
    "id": "0b890492"
   },
   "source": [
    "Describe brevemente tus hallazgos y lo que hiciste con ellos.\n",
    "\n",
    "No estoy seguro de como tomar esos numeros por columna pero creo que se debe a los datos ausentes y el tipo de datos que se estan utilizando"
   ]
  },
  {
   "cell_type": "markdown",
   "id": "f75c41eb",
   "metadata": {},
   "source": [
    "<div class=\"alert alert-block alert-success\">\n",
    "<b>Comentario del revisor</b> <a class=\"tocSkip\"></a>\n",
    "    \n",
    "Excelente, muy buen trabajo estudiando el tema de los valores duplicados de la tabla ``order_products_df``</div>"
   ]
  },
  {
   "cell_type": "markdown",
   "id": "1e46de76",
   "metadata": {
    "id": "1e46de76"
   },
   "source": [
    "## Encuentra y elimina los valores ausentes\n",
    "\n",
    "Al trabajar con valores duplicados, pudimos observar que también nos falta investigar valores ausentes:\n",
    "\n",
    "* La columna `'product_name'` de la tabla products.\n",
    "* La columna `'days_since_prior_order'` de la tabla orders.\n",
    "* La columna `'add_to_cart_order'` de la tabla order_products."
   ]
  },
  {
   "cell_type": "markdown",
   "id": "c0aebd78",
   "metadata": {
    "id": "c0aebd78"
   },
   "source": [
    "### `products` data frame"
   ]
  },
  {
   "cell_type": "code",
   "execution_count": 28,
   "id": "fe4a8b0f",
   "metadata": {
    "id": "fe4a8b0f"
   },
   "outputs": [
    {
     "name": "stdout",
     "output_type": "stream",
     "text": [
      "NaN                                                           1258\n",
      "GREEN TEA WITH GINSENG AND HONEY                                 3\n",
      "BAG OF ORGANIC LEMONS                                            2\n",
      "GENTLE AND PREDICTABLE OVERNIGHT RELIEF LAXATIVE TABLETS         2\n",
      "ULTRAGEL PERSONAL LUBRICANT                                      2\n",
      "                                                              ... \n",
      "OMEGA 3 SKIN FOOD ULTRA MOISTURIZING UNSCENTED BODY LOTION       1\n",
      "ORIGINAL SWEDISH RYE CRISPBREAD                                  1\n",
      "ROOM & FABRIC FRESHENER GARDENIA                                 1\n",
      "MOOSE TRACKS                                                     1\n",
      "FROZEN STRAWBERRIES                                              1\n",
      "Name: product_name, Length: 48333, dtype: int64\n",
      "\n",
      "1258\n"
     ]
    }
   ],
   "source": [
    "print(df_products['product_name'].value_counts(dropna=False))\n",
    "print()\n",
    "print(df_products['product_name'].isna().sum())\n",
    "# Encuentra los valores ausentes en la columna 'product_name'"
   ]
  },
  {
   "cell_type": "markdown",
   "id": "-A6x1AbJhjkp",
   "metadata": {
    "id": "-A6x1AbJhjkp"
   },
   "source": [
    "Describe brevemente cuáles son tus hallazgos.\n",
    "Tenemos 1258 valores ausentes en la columna prodcut_name"
   ]
  },
  {
   "cell_type": "code",
   "execution_count": 29,
   "id": "e96167bc",
   "metadata": {
    "id": "e96167bc"
   },
   "outputs": [
    {
     "data": {
      "text/html": [
       "<div>\n",
       "<style scoped>\n",
       "    .dataframe tbody tr th:only-of-type {\n",
       "        vertical-align: middle;\n",
       "    }\n",
       "\n",
       "    .dataframe tbody tr th {\n",
       "        vertical-align: top;\n",
       "    }\n",
       "\n",
       "    .dataframe thead th {\n",
       "        text-align: right;\n",
       "    }\n",
       "</style>\n",
       "<table border=\"1\" class=\"dataframe\">\n",
       "  <thead>\n",
       "    <tr style=\"text-align: right;\">\n",
       "      <th></th>\n",
       "      <th>product_id</th>\n",
       "      <th>product_name</th>\n",
       "      <th>aisle_id</th>\n",
       "      <th>department_id</th>\n",
       "    </tr>\n",
       "  </thead>\n",
       "  <tbody>\n",
       "    <tr>\n",
       "      <th>37</th>\n",
       "      <td>38</td>\n",
       "      <td>NaN</td>\n",
       "      <td>100</td>\n",
       "      <td>21</td>\n",
       "    </tr>\n",
       "    <tr>\n",
       "      <th>71</th>\n",
       "      <td>72</td>\n",
       "      <td>NaN</td>\n",
       "      <td>100</td>\n",
       "      <td>21</td>\n",
       "    </tr>\n",
       "    <tr>\n",
       "      <th>109</th>\n",
       "      <td>110</td>\n",
       "      <td>NaN</td>\n",
       "      <td>100</td>\n",
       "      <td>21</td>\n",
       "    </tr>\n",
       "    <tr>\n",
       "      <th>296</th>\n",
       "      <td>297</td>\n",
       "      <td>NaN</td>\n",
       "      <td>100</td>\n",
       "      <td>21</td>\n",
       "    </tr>\n",
       "    <tr>\n",
       "      <th>416</th>\n",
       "      <td>417</td>\n",
       "      <td>NaN</td>\n",
       "      <td>100</td>\n",
       "      <td>21</td>\n",
       "    </tr>\n",
       "    <tr>\n",
       "      <th>...</th>\n",
       "      <td>...</td>\n",
       "      <td>...</td>\n",
       "      <td>...</td>\n",
       "      <td>...</td>\n",
       "    </tr>\n",
       "    <tr>\n",
       "      <th>49552</th>\n",
       "      <td>49553</td>\n",
       "      <td>NaN</td>\n",
       "      <td>100</td>\n",
       "      <td>21</td>\n",
       "    </tr>\n",
       "    <tr>\n",
       "      <th>49574</th>\n",
       "      <td>49575</td>\n",
       "      <td>NaN</td>\n",
       "      <td>100</td>\n",
       "      <td>21</td>\n",
       "    </tr>\n",
       "    <tr>\n",
       "      <th>49640</th>\n",
       "      <td>49641</td>\n",
       "      <td>NaN</td>\n",
       "      <td>100</td>\n",
       "      <td>21</td>\n",
       "    </tr>\n",
       "    <tr>\n",
       "      <th>49663</th>\n",
       "      <td>49664</td>\n",
       "      <td>NaN</td>\n",
       "      <td>100</td>\n",
       "      <td>21</td>\n",
       "    </tr>\n",
       "    <tr>\n",
       "      <th>49668</th>\n",
       "      <td>49669</td>\n",
       "      <td>NaN</td>\n",
       "      <td>100</td>\n",
       "      <td>21</td>\n",
       "    </tr>\n",
       "  </tbody>\n",
       "</table>\n",
       "<p>1258 rows × 4 columns</p>\n",
       "</div>"
      ],
      "text/plain": [
       "       product_id product_name  aisle_id  department_id\n",
       "37             38          NaN       100             21\n",
       "71             72          NaN       100             21\n",
       "109           110          NaN       100             21\n",
       "296           297          NaN       100             21\n",
       "416           417          NaN       100             21\n",
       "...           ...          ...       ...            ...\n",
       "49552       49553          NaN       100             21\n",
       "49574       49575          NaN       100             21\n",
       "49640       49641          NaN       100             21\n",
       "49663       49664          NaN       100             21\n",
       "49668       49669          NaN       100             21\n",
       "\n",
       "[1258 rows x 4 columns]"
      ]
     },
     "metadata": {},
     "output_type": "display_data"
    }
   ],
   "source": [
    "display(df_products[(df_products['product_name'].isna()) & (df_products['aisle_id'] == 100)]) \n",
    "\n",
    "#  ¿Todos los nombres de productos ausentes están relacionados con el pasillo con ID 100?\n"
   ]
  },
  {
   "cell_type": "markdown",
   "id": "WRpIfXRphpSL",
   "metadata": {
    "id": "WRpIfXRphpSL"
   },
   "source": [
    "Describe brevemente cuáles son tus hallazgos.\n",
    "\n",
    "En efecto todos los productos ausentes estan relacionados con el pasillo con ID 100"
   ]
  },
  {
   "cell_type": "code",
   "execution_count": 30,
   "id": "8fd0a541",
   "metadata": {
    "id": "8fd0a541",
    "scrolled": true
   },
   "outputs": [
    {
     "data": {
      "text/html": [
       "<div>\n",
       "<style scoped>\n",
       "    .dataframe tbody tr th:only-of-type {\n",
       "        vertical-align: middle;\n",
       "    }\n",
       "\n",
       "    .dataframe tbody tr th {\n",
       "        vertical-align: top;\n",
       "    }\n",
       "\n",
       "    .dataframe thead th {\n",
       "        text-align: right;\n",
       "    }\n",
       "</style>\n",
       "<table border=\"1\" class=\"dataframe\">\n",
       "  <thead>\n",
       "    <tr style=\"text-align: right;\">\n",
       "      <th></th>\n",
       "      <th>product_id</th>\n",
       "      <th>product_name</th>\n",
       "      <th>aisle_id</th>\n",
       "      <th>department_id</th>\n",
       "    </tr>\n",
       "  </thead>\n",
       "  <tbody>\n",
       "    <tr>\n",
       "      <th>37</th>\n",
       "      <td>38</td>\n",
       "      <td>NaN</td>\n",
       "      <td>100</td>\n",
       "      <td>21</td>\n",
       "    </tr>\n",
       "    <tr>\n",
       "      <th>71</th>\n",
       "      <td>72</td>\n",
       "      <td>NaN</td>\n",
       "      <td>100</td>\n",
       "      <td>21</td>\n",
       "    </tr>\n",
       "    <tr>\n",
       "      <th>109</th>\n",
       "      <td>110</td>\n",
       "      <td>NaN</td>\n",
       "      <td>100</td>\n",
       "      <td>21</td>\n",
       "    </tr>\n",
       "    <tr>\n",
       "      <th>296</th>\n",
       "      <td>297</td>\n",
       "      <td>NaN</td>\n",
       "      <td>100</td>\n",
       "      <td>21</td>\n",
       "    </tr>\n",
       "    <tr>\n",
       "      <th>416</th>\n",
       "      <td>417</td>\n",
       "      <td>NaN</td>\n",
       "      <td>100</td>\n",
       "      <td>21</td>\n",
       "    </tr>\n",
       "    <tr>\n",
       "      <th>...</th>\n",
       "      <td>...</td>\n",
       "      <td>...</td>\n",
       "      <td>...</td>\n",
       "      <td>...</td>\n",
       "    </tr>\n",
       "    <tr>\n",
       "      <th>49552</th>\n",
       "      <td>49553</td>\n",
       "      <td>NaN</td>\n",
       "      <td>100</td>\n",
       "      <td>21</td>\n",
       "    </tr>\n",
       "    <tr>\n",
       "      <th>49574</th>\n",
       "      <td>49575</td>\n",
       "      <td>NaN</td>\n",
       "      <td>100</td>\n",
       "      <td>21</td>\n",
       "    </tr>\n",
       "    <tr>\n",
       "      <th>49640</th>\n",
       "      <td>49641</td>\n",
       "      <td>NaN</td>\n",
       "      <td>100</td>\n",
       "      <td>21</td>\n",
       "    </tr>\n",
       "    <tr>\n",
       "      <th>49663</th>\n",
       "      <td>49664</td>\n",
       "      <td>NaN</td>\n",
       "      <td>100</td>\n",
       "      <td>21</td>\n",
       "    </tr>\n",
       "    <tr>\n",
       "      <th>49668</th>\n",
       "      <td>49669</td>\n",
       "      <td>NaN</td>\n",
       "      <td>100</td>\n",
       "      <td>21</td>\n",
       "    </tr>\n",
       "  </tbody>\n",
       "</table>\n",
       "<p>1258 rows × 4 columns</p>\n",
       "</div>"
      ],
      "text/plain": [
       "       product_id product_name  aisle_id  department_id\n",
       "37             38          NaN       100             21\n",
       "71             72          NaN       100             21\n",
       "109           110          NaN       100             21\n",
       "296           297          NaN       100             21\n",
       "416           417          NaN       100             21\n",
       "...           ...          ...       ...            ...\n",
       "49552       49553          NaN       100             21\n",
       "49574       49575          NaN       100             21\n",
       "49640       49641          NaN       100             21\n",
       "49663       49664          NaN       100             21\n",
       "49668       49669          NaN       100             21\n",
       "\n",
       "[1258 rows x 4 columns]"
      ]
     },
     "metadata": {},
     "output_type": "display_data"
    }
   ],
   "source": [
    "display(df_products[(df_products['product_name'].isna()) & (df_products['department_id'] == 21)]) \n",
    "# ¿Todos los nombres de productos ausentes están relacionados con el departamento con ID 21?\n"
   ]
  },
  {
   "cell_type": "markdown",
   "id": "qDpdYn1Fht_I",
   "metadata": {
    "id": "qDpdYn1Fht_I"
   },
   "source": [
    "Describe brevemente cuáles son tus hallazgos.\n",
    "\n",
    "De igual forma podemos comprobar que todos los productos ausentes estan relacionados con el departamento ID 21"
   ]
  },
  {
   "cell_type": "code",
   "execution_count": 31,
   "id": "325c3464",
   "metadata": {
    "id": "325c3464"
   },
   "outputs": [
    {
     "data": {
      "text/html": [
       "<div>\n",
       "<style scoped>\n",
       "    .dataframe tbody tr th:only-of-type {\n",
       "        vertical-align: middle;\n",
       "    }\n",
       "\n",
       "    .dataframe tbody tr th {\n",
       "        vertical-align: top;\n",
       "    }\n",
       "\n",
       "    .dataframe thead th {\n",
       "        text-align: right;\n",
       "    }\n",
       "</style>\n",
       "<table border=\"1\" class=\"dataframe\">\n",
       "  <thead>\n",
       "    <tr style=\"text-align: right;\">\n",
       "      <th></th>\n",
       "      <th>product_id</th>\n",
       "      <th>product_name</th>\n",
       "      <th>aisle_id</th>\n",
       "      <th>department_id</th>\n",
       "    </tr>\n",
       "  </thead>\n",
       "  <tbody>\n",
       "    <tr>\n",
       "      <th>37</th>\n",
       "      <td>38</td>\n",
       "      <td>NaN</td>\n",
       "      <td>100</td>\n",
       "      <td>21</td>\n",
       "    </tr>\n",
       "    <tr>\n",
       "      <th>71</th>\n",
       "      <td>72</td>\n",
       "      <td>NaN</td>\n",
       "      <td>100</td>\n",
       "      <td>21</td>\n",
       "    </tr>\n",
       "    <tr>\n",
       "      <th>109</th>\n",
       "      <td>110</td>\n",
       "      <td>NaN</td>\n",
       "      <td>100</td>\n",
       "      <td>21</td>\n",
       "    </tr>\n",
       "    <tr>\n",
       "      <th>296</th>\n",
       "      <td>297</td>\n",
       "      <td>NaN</td>\n",
       "      <td>100</td>\n",
       "      <td>21</td>\n",
       "    </tr>\n",
       "    <tr>\n",
       "      <th>416</th>\n",
       "      <td>417</td>\n",
       "      <td>NaN</td>\n",
       "      <td>100</td>\n",
       "      <td>21</td>\n",
       "    </tr>\n",
       "    <tr>\n",
       "      <th>...</th>\n",
       "      <td>...</td>\n",
       "      <td>...</td>\n",
       "      <td>...</td>\n",
       "      <td>...</td>\n",
       "    </tr>\n",
       "    <tr>\n",
       "      <th>49552</th>\n",
       "      <td>49553</td>\n",
       "      <td>NaN</td>\n",
       "      <td>100</td>\n",
       "      <td>21</td>\n",
       "    </tr>\n",
       "    <tr>\n",
       "      <th>49574</th>\n",
       "      <td>49575</td>\n",
       "      <td>NaN</td>\n",
       "      <td>100</td>\n",
       "      <td>21</td>\n",
       "    </tr>\n",
       "    <tr>\n",
       "      <th>49640</th>\n",
       "      <td>49641</td>\n",
       "      <td>NaN</td>\n",
       "      <td>100</td>\n",
       "      <td>21</td>\n",
       "    </tr>\n",
       "    <tr>\n",
       "      <th>49663</th>\n",
       "      <td>49664</td>\n",
       "      <td>NaN</td>\n",
       "      <td>100</td>\n",
       "      <td>21</td>\n",
       "    </tr>\n",
       "    <tr>\n",
       "      <th>49668</th>\n",
       "      <td>49669</td>\n",
       "      <td>NaN</td>\n",
       "      <td>100</td>\n",
       "      <td>21</td>\n",
       "    </tr>\n",
       "  </tbody>\n",
       "</table>\n",
       "<p>1258 rows × 4 columns</p>\n",
       "</div>"
      ],
      "text/plain": [
       "       product_id product_name  aisle_id  department_id\n",
       "37             38          NaN       100             21\n",
       "71             72          NaN       100             21\n",
       "109           110          NaN       100             21\n",
       "296           297          NaN       100             21\n",
       "416           417          NaN       100             21\n",
       "...           ...          ...       ...            ...\n",
       "49552       49553          NaN       100             21\n",
       "49574       49575          NaN       100             21\n",
       "49640       49641          NaN       100             21\n",
       "49663       49664          NaN       100             21\n",
       "49668       49669          NaN       100             21\n",
       "\n",
       "[1258 rows x 4 columns]"
      ]
     },
     "metadata": {},
     "output_type": "display_data"
    }
   ],
   "source": [
    "display(df_products[(df_products['aisle_id'] == 100) & (df_products['department_id'] == 21)]) \n",
    "\n",
    "# Usa las tablas department y aisle para revisar los datos del pasillo con ID 100 y el departamento con ID 21.\n"
   ]
  },
  {
   "cell_type": "markdown",
   "id": "nqhSTUPhhvEJ",
   "metadata": {
    "id": "nqhSTUPhhvEJ"
   },
   "source": [
    "Describe brevemente cuáles son tus hallazgos.\n",
    "\n",
    "Podemos ver que los datos arrojados son exactamente los mismos que con obtuvimos previamente por lo que se termina de confirmar que los datos ausentes se encuentran todos en la combinacion de departamento 21-pasillo 100"
   ]
  },
  {
   "cell_type": "code",
   "execution_count": 32,
   "id": "6b295120",
   "metadata": {
    "id": "6b295120"
   },
   "outputs": [
    {
     "data": {
      "text/html": [
       "<div>\n",
       "<style scoped>\n",
       "    .dataframe tbody tr th:only-of-type {\n",
       "        vertical-align: middle;\n",
       "    }\n",
       "\n",
       "    .dataframe tbody tr th {\n",
       "        vertical-align: top;\n",
       "    }\n",
       "\n",
       "    .dataframe thead th {\n",
       "        text-align: right;\n",
       "    }\n",
       "</style>\n",
       "<table border=\"1\" class=\"dataframe\">\n",
       "  <thead>\n",
       "    <tr style=\"text-align: right;\">\n",
       "      <th></th>\n",
       "      <th>product_id</th>\n",
       "      <th>product_name</th>\n",
       "      <th>aisle_id</th>\n",
       "      <th>department_id</th>\n",
       "    </tr>\n",
       "  </thead>\n",
       "  <tbody>\n",
       "    <tr>\n",
       "      <th>37</th>\n",
       "      <td>38</td>\n",
       "      <td>Unknown</td>\n",
       "      <td>100</td>\n",
       "      <td>21</td>\n",
       "    </tr>\n",
       "    <tr>\n",
       "      <th>71</th>\n",
       "      <td>72</td>\n",
       "      <td>Unknown</td>\n",
       "      <td>100</td>\n",
       "      <td>21</td>\n",
       "    </tr>\n",
       "    <tr>\n",
       "      <th>109</th>\n",
       "      <td>110</td>\n",
       "      <td>Unknown</td>\n",
       "      <td>100</td>\n",
       "      <td>21</td>\n",
       "    </tr>\n",
       "    <tr>\n",
       "      <th>296</th>\n",
       "      <td>297</td>\n",
       "      <td>Unknown</td>\n",
       "      <td>100</td>\n",
       "      <td>21</td>\n",
       "    </tr>\n",
       "    <tr>\n",
       "      <th>416</th>\n",
       "      <td>417</td>\n",
       "      <td>Unknown</td>\n",
       "      <td>100</td>\n",
       "      <td>21</td>\n",
       "    </tr>\n",
       "    <tr>\n",
       "      <th>...</th>\n",
       "      <td>...</td>\n",
       "      <td>...</td>\n",
       "      <td>...</td>\n",
       "      <td>...</td>\n",
       "    </tr>\n",
       "    <tr>\n",
       "      <th>49552</th>\n",
       "      <td>49553</td>\n",
       "      <td>Unknown</td>\n",
       "      <td>100</td>\n",
       "      <td>21</td>\n",
       "    </tr>\n",
       "    <tr>\n",
       "      <th>49574</th>\n",
       "      <td>49575</td>\n",
       "      <td>Unknown</td>\n",
       "      <td>100</td>\n",
       "      <td>21</td>\n",
       "    </tr>\n",
       "    <tr>\n",
       "      <th>49640</th>\n",
       "      <td>49641</td>\n",
       "      <td>Unknown</td>\n",
       "      <td>100</td>\n",
       "      <td>21</td>\n",
       "    </tr>\n",
       "    <tr>\n",
       "      <th>49663</th>\n",
       "      <td>49664</td>\n",
       "      <td>Unknown</td>\n",
       "      <td>100</td>\n",
       "      <td>21</td>\n",
       "    </tr>\n",
       "    <tr>\n",
       "      <th>49668</th>\n",
       "      <td>49669</td>\n",
       "      <td>Unknown</td>\n",
       "      <td>100</td>\n",
       "      <td>21</td>\n",
       "    </tr>\n",
       "  </tbody>\n",
       "</table>\n",
       "<p>1258 rows × 4 columns</p>\n",
       "</div>"
      ],
      "text/plain": [
       "       product_id product_name  aisle_id  department_id\n",
       "37             38      Unknown       100             21\n",
       "71             72      Unknown       100             21\n",
       "109           110      Unknown       100             21\n",
       "296           297      Unknown       100             21\n",
       "416           417      Unknown       100             21\n",
       "...           ...          ...       ...            ...\n",
       "49552       49553      Unknown       100             21\n",
       "49574       49575      Unknown       100             21\n",
       "49640       49641      Unknown       100             21\n",
       "49663       49664      Unknown       100             21\n",
       "49668       49669      Unknown       100             21\n",
       "\n",
       "[1258 rows x 4 columns]"
      ]
     },
     "metadata": {},
     "output_type": "display_data"
    }
   ],
   "source": [
    "df_products['product_name'] = df_products['product_name'].fillna(value='Unknown')\n",
    "display(df_products[(df_products['aisle_id'] == 100) & (df_products['department_id'] == 21)]) \n",
    "\n",
    "# Completa los nombres de productos ausentes con 'Unknown'\n"
   ]
  },
  {
   "cell_type": "markdown",
   "id": "fc70e5ad",
   "metadata": {
    "id": "fc70e5ad"
   },
   "source": [
    "Describe brevemente tus hallazgos y lo que hiciste con ellos.\n",
    "\n",
    "Ahora si, ya que tenemos identificados los Nans pudimos remplazarlos con Unknown y ahora ya no hay valores ausentes dentro de la lista."
   ]
  },
  {
   "cell_type": "markdown",
   "id": "7eb45c86",
   "metadata": {
    "id": "7eb45c86"
   },
   "source": [
    "### `orders` data frame"
   ]
  },
  {
   "cell_type": "code",
   "execution_count": 28,
   "id": "93e41d96",
   "metadata": {
    "id": "93e41d96"
   },
   "outputs": [
    {
     "name": "stdout",
     "output_type": "stream",
     "text": [
      "30.0    51337\n",
      "7.0     44577\n",
      "6.0     33930\n",
      "4.0     31006\n",
      "3.0     30224\n",
      "5.0     30096\n",
      "NaN     28817\n",
      "2.0     27138\n",
      "8.0     25361\n",
      "1.0     20179\n",
      "9.0     16753\n",
      "14.0    13992\n",
      "10.0    13309\n",
      "13.0    11737\n",
      "11.0    11467\n",
      "12.0    10658\n",
      "0.0      9589\n",
      "15.0     9416\n",
      "16.0     6587\n",
      "21.0     6448\n",
      "17.0     5498\n",
      "20.0     5302\n",
      "18.0     4971\n",
      "19.0     4939\n",
      "22.0     4514\n",
      "28.0     3745\n",
      "23.0     3337\n",
      "24.0     3015\n",
      "27.0     2986\n",
      "25.0     2711\n",
      "29.0     2673\n",
      "26.0     2640\n",
      "Name: days_since_prior_order, dtype: int64\n",
      "\n",
      "28817\n"
     ]
    }
   ],
   "source": [
    "print(df_orders['days_since_prior_order'].value_counts(dropna=False))\n",
    "print()\n",
    "print(df_orders['days_since_prior_order'].isna().sum())\n",
    "\n",
    "# Encuentra los valores ausentes"
   ]
  },
  {
   "cell_type": "code",
   "execution_count": 33,
   "id": "166e5a86",
   "metadata": {
    "id": "166e5a86"
   },
   "outputs": [
    {
     "data": {
      "text/html": [
       "<div>\n",
       "<style scoped>\n",
       "    .dataframe tbody tr th:only-of-type {\n",
       "        vertical-align: middle;\n",
       "    }\n",
       "\n",
       "    .dataframe tbody tr th {\n",
       "        vertical-align: top;\n",
       "    }\n",
       "\n",
       "    .dataframe thead th {\n",
       "        text-align: right;\n",
       "    }\n",
       "</style>\n",
       "<table border=\"1\" class=\"dataframe\">\n",
       "  <thead>\n",
       "    <tr style=\"text-align: right;\">\n",
       "      <th></th>\n",
       "      <th>order_id</th>\n",
       "      <th>user_id</th>\n",
       "      <th>order_number</th>\n",
       "      <th>order_dow</th>\n",
       "      <th>order_hour_of_day</th>\n",
       "      <th>days_since_prior_order</th>\n",
       "    </tr>\n",
       "  </thead>\n",
       "  <tbody>\n",
       "    <tr>\n",
       "      <th>28</th>\n",
       "      <td>133707</td>\n",
       "      <td>182261</td>\n",
       "      <td>1</td>\n",
       "      <td>3</td>\n",
       "      <td>10</td>\n",
       "      <td>NaN</td>\n",
       "    </tr>\n",
       "    <tr>\n",
       "      <th>96</th>\n",
       "      <td>787445</td>\n",
       "      <td>25685</td>\n",
       "      <td>1</td>\n",
       "      <td>6</td>\n",
       "      <td>18</td>\n",
       "      <td>NaN</td>\n",
       "    </tr>\n",
       "    <tr>\n",
       "      <th>100</th>\n",
       "      <td>294410</td>\n",
       "      <td>111449</td>\n",
       "      <td>1</td>\n",
       "      <td>0</td>\n",
       "      <td>19</td>\n",
       "      <td>NaN</td>\n",
       "    </tr>\n",
       "    <tr>\n",
       "      <th>103</th>\n",
       "      <td>2869915</td>\n",
       "      <td>123958</td>\n",
       "      <td>1</td>\n",
       "      <td>4</td>\n",
       "      <td>16</td>\n",
       "      <td>NaN</td>\n",
       "    </tr>\n",
       "    <tr>\n",
       "      <th>104</th>\n",
       "      <td>2521921</td>\n",
       "      <td>42286</td>\n",
       "      <td>1</td>\n",
       "      <td>3</td>\n",
       "      <td>18</td>\n",
       "      <td>NaN</td>\n",
       "    </tr>\n",
       "    <tr>\n",
       "      <th>...</th>\n",
       "      <td>...</td>\n",
       "      <td>...</td>\n",
       "      <td>...</td>\n",
       "      <td>...</td>\n",
       "      <td>...</td>\n",
       "      <td>...</td>\n",
       "    </tr>\n",
       "    <tr>\n",
       "      <th>478880</th>\n",
       "      <td>2589657</td>\n",
       "      <td>205028</td>\n",
       "      <td>1</td>\n",
       "      <td>0</td>\n",
       "      <td>16</td>\n",
       "      <td>NaN</td>\n",
       "    </tr>\n",
       "    <tr>\n",
       "      <th>478881</th>\n",
       "      <td>2222353</td>\n",
       "      <td>141211</td>\n",
       "      <td>1</td>\n",
       "      <td>2</td>\n",
       "      <td>13</td>\n",
       "      <td>NaN</td>\n",
       "    </tr>\n",
       "    <tr>\n",
       "      <th>478907</th>\n",
       "      <td>2272807</td>\n",
       "      <td>204154</td>\n",
       "      <td>1</td>\n",
       "      <td>1</td>\n",
       "      <td>15</td>\n",
       "      <td>NaN</td>\n",
       "    </tr>\n",
       "    <tr>\n",
       "      <th>478911</th>\n",
       "      <td>2499542</td>\n",
       "      <td>68810</td>\n",
       "      <td>1</td>\n",
       "      <td>4</td>\n",
       "      <td>19</td>\n",
       "      <td>NaN</td>\n",
       "    </tr>\n",
       "    <tr>\n",
       "      <th>478930</th>\n",
       "      <td>1387033</td>\n",
       "      <td>22496</td>\n",
       "      <td>1</td>\n",
       "      <td>5</td>\n",
       "      <td>14</td>\n",
       "      <td>NaN</td>\n",
       "    </tr>\n",
       "  </tbody>\n",
       "</table>\n",
       "<p>28817 rows × 6 columns</p>\n",
       "</div>"
      ],
      "text/plain": [
       "        order_id  user_id  order_number  order_dow  order_hour_of_day  \\\n",
       "28        133707   182261             1          3                 10   \n",
       "96        787445    25685             1          6                 18   \n",
       "100       294410   111449             1          0                 19   \n",
       "103      2869915   123958             1          4                 16   \n",
       "104      2521921    42286             1          3                 18   \n",
       "...          ...      ...           ...        ...                ...   \n",
       "478880   2589657   205028             1          0                 16   \n",
       "478881   2222353   141211             1          2                 13   \n",
       "478907   2272807   204154             1          1                 15   \n",
       "478911   2499542    68810             1          4                 19   \n",
       "478930   1387033    22496             1          5                 14   \n",
       "\n",
       "        days_since_prior_order  \n",
       "28                         NaN  \n",
       "96                         NaN  \n",
       "100                        NaN  \n",
       "103                        NaN  \n",
       "104                        NaN  \n",
       "...                        ...  \n",
       "478880                     NaN  \n",
       "478881                     NaN  \n",
       "478907                     NaN  \n",
       "478911                     NaN  \n",
       "478930                     NaN  \n",
       "\n",
       "[28817 rows x 6 columns]"
      ]
     },
     "metadata": {},
     "output_type": "display_data"
    }
   ],
   "source": [
    "display(df_orders[(df_orders['days_since_prior_order'].isna()) & (df_orders['order_number'] == 1)]) \n",
    "\n",
    "# ¿Hay algún valor ausente que no sea el primer pedido del cliente?\n"
   ]
  },
  {
   "cell_type": "markdown",
   "id": "4e23d089",
   "metadata": {
    "id": "4e23d089"
   },
   "source": [
    "Describe brevemente tus hallazgos y lo que hiciste con ellos.\n",
    "\n",
    "Con este resultado confirmamos que todos los valores ausentes se encuentran en la orden 1 por lo que no hay un valor ausente que no sea el primer pedido del cliente"
   ]
  },
  {
   "cell_type": "markdown",
   "id": "69dc9ca4",
   "metadata": {
    "id": "69dc9ca4"
   },
   "source": [
    "### `order_products` data frame"
   ]
  },
  {
   "cell_type": "code",
   "execution_count": 34,
   "id": "b8240253",
   "metadata": {
    "id": "b8240253"
   },
   "outputs": [
    {
     "name": "stdout",
     "output_type": "stream",
     "text": [
      "1.0     450046\n",
      "2.0     428199\n",
      "3.0     401907\n",
      "4.0     372861\n",
      "5.0     341807\n",
      "         ...  \n",
      "60.0       127\n",
      "61.0       114\n",
      "62.0        98\n",
      "63.0        87\n",
      "64.0        75\n",
      "Name: add_to_cart_order, Length: 65, dtype: int64\n",
      "\n",
      "836\n"
     ]
    }
   ],
   "source": [
    "print(df_or_pr['add_to_cart_order'].value_counts(dropna=False))\n",
    "print()\n",
    "print(df_or_pr['add_to_cart_order'].isna().sum())\n",
    "\n",
    "# Encuentra los valores ausentes"
   ]
  },
  {
   "cell_type": "code",
   "execution_count": 35,
   "id": "9a78e5ee",
   "metadata": {
    "id": "9a78e5ee"
   },
   "outputs": [
    {
     "name": "stdout",
     "output_type": "stream",
     "text": [
      "64.0\n",
      "1.0\n"
     ]
    }
   ],
   "source": [
    "print(df_or_pr['add_to_cart_order'].max())\n",
    "print(df_or_pr['add_to_cart_order'].min())\n",
    "\n",
    "# ¿Cuáles son los valores mínimos y máximos en esta columna?\n"
   ]
  },
  {
   "cell_type": "markdown",
   "id": "-Z2Ja215jW78",
   "metadata": {
    "id": "-Z2Ja215jW78"
   },
   "source": [
    "Describe brevemente cuáles son tus hallazgos.\n",
    "\n",
    "Los valores ausentes se encuentran entre las columnas 5 a 60"
   ]
  },
  {
   "cell_type": "code",
   "execution_count": 36,
   "id": "ab9d0c2b",
   "metadata": {
    "id": "ab9d0c2b"
   },
   "outputs": [
    {
     "name": "stdout",
     "output_type": "stream",
     "text": [
      "737        2449164\n",
      "9926       1968313\n",
      "14394      2926893\n",
      "16418      1717990\n",
      "30114      1959075\n",
      "            ...   \n",
      "4505662    1800005\n",
      "4511400    1633337\n",
      "4517562     404157\n",
      "4534112    1673227\n",
      "4535739    1832957\n",
      "Name: order_id, Length: 836, dtype: int64\n"
     ]
    }
   ],
   "source": [
    "id_val_aus= df_or_pr[df_or_pr['add_to_cart_order'].isna()]['order_id']\n",
    "print(id_val_aus)\n",
    "\n",
    "# Guarda todas las IDs de pedidos que tengan un valor ausente en 'add_to_cart_order'\n"
   ]
  },
  {
   "cell_type": "code",
   "execution_count": 38,
   "id": "54c31695",
   "metadata": {
    "id": "54c31695"
   },
   "outputs": [
    {
     "data": {
      "text/html": [
       "<div>\n",
       "<style scoped>\n",
       "    .dataframe tbody tr th:only-of-type {\n",
       "        vertical-align: middle;\n",
       "    }\n",
       "\n",
       "    .dataframe tbody tr th {\n",
       "        vertical-align: top;\n",
       "    }\n",
       "\n",
       "    .dataframe thead th {\n",
       "        text-align: right;\n",
       "    }\n",
       "</style>\n",
       "<table border=\"1\" class=\"dataframe\">\n",
       "  <thead>\n",
       "    <tr style=\"text-align: right;\">\n",
       "      <th></th>\n",
       "      <th>order_id</th>\n",
       "      <th>product_id</th>\n",
       "      <th>add_to_cart_order</th>\n",
       "      <th>reordered</th>\n",
       "    </tr>\n",
       "  </thead>\n",
       "  <tbody>\n",
       "    <tr>\n",
       "      <th>737</th>\n",
       "      <td>2449164</td>\n",
       "      <td>5068</td>\n",
       "      <td>NaN</td>\n",
       "      <td>0</td>\n",
       "    </tr>\n",
       "    <tr>\n",
       "      <th>9926</th>\n",
       "      <td>1968313</td>\n",
       "      <td>43867</td>\n",
       "      <td>NaN</td>\n",
       "      <td>0</td>\n",
       "    </tr>\n",
       "    <tr>\n",
       "      <th>14394</th>\n",
       "      <td>2926893</td>\n",
       "      <td>11688</td>\n",
       "      <td>NaN</td>\n",
       "      <td>0</td>\n",
       "    </tr>\n",
       "    <tr>\n",
       "      <th>16418</th>\n",
       "      <td>1717990</td>\n",
       "      <td>4142</td>\n",
       "      <td>NaN</td>\n",
       "      <td>0</td>\n",
       "    </tr>\n",
       "    <tr>\n",
       "      <th>30114</th>\n",
       "      <td>1959075</td>\n",
       "      <td>42828</td>\n",
       "      <td>NaN</td>\n",
       "      <td>1</td>\n",
       "    </tr>\n",
       "    <tr>\n",
       "      <th>...</th>\n",
       "      <td>...</td>\n",
       "      <td>...</td>\n",
       "      <td>...</td>\n",
       "      <td>...</td>\n",
       "    </tr>\n",
       "    <tr>\n",
       "      <th>4505662</th>\n",
       "      <td>1800005</td>\n",
       "      <td>7411</td>\n",
       "      <td>NaN</td>\n",
       "      <td>0</td>\n",
       "    </tr>\n",
       "    <tr>\n",
       "      <th>4511400</th>\n",
       "      <td>1633337</td>\n",
       "      <td>260</td>\n",
       "      <td>NaN</td>\n",
       "      <td>0</td>\n",
       "    </tr>\n",
       "    <tr>\n",
       "      <th>4517562</th>\n",
       "      <td>404157</td>\n",
       "      <td>9517</td>\n",
       "      <td>NaN</td>\n",
       "      <td>0</td>\n",
       "    </tr>\n",
       "    <tr>\n",
       "      <th>4534112</th>\n",
       "      <td>1673227</td>\n",
       "      <td>17835</td>\n",
       "      <td>NaN</td>\n",
       "      <td>0</td>\n",
       "    </tr>\n",
       "    <tr>\n",
       "      <th>4535739</th>\n",
       "      <td>1832957</td>\n",
       "      <td>17949</td>\n",
       "      <td>NaN</td>\n",
       "      <td>1</td>\n",
       "    </tr>\n",
       "  </tbody>\n",
       "</table>\n",
       "<p>836 rows × 4 columns</p>\n",
       "</div>"
      ],
      "text/plain": [
       "         order_id  product_id  add_to_cart_order  reordered\n",
       "737       2449164        5068                NaN          0\n",
       "9926      1968313       43867                NaN          0\n",
       "14394     2926893       11688                NaN          0\n",
       "16418     1717990        4142                NaN          0\n",
       "30114     1959075       42828                NaN          1\n",
       "...           ...         ...                ...        ...\n",
       "4505662   1800005        7411                NaN          0\n",
       "4511400   1633337         260                NaN          0\n",
       "4517562    404157        9517                NaN          0\n",
       "4534112   1673227       17835                NaN          0\n",
       "4535739   1832957       17949                NaN          1\n",
       "\n",
       "[836 rows x 4 columns]"
      ]
     },
     "metadata": {},
     "output_type": "display_data"
    },
    {
     "name": "stdout",
     "output_type": "stream",
     "text": [
      "\n",
      "1\n"
     ]
    }
   ],
   "source": [
    "fil_nan=df_or_pr[(df_or_pr['add_to_cart_order'].isna()) & (df_or_pr['order_id'] > 64)]\n",
    "display(fil_nan) \n",
    "print()\n",
    "ped_aus= df_or_pr[df_or_pr['add_to_cart_order'].isna()]\n",
    "ped_agr= ped_aus.groupby('order_id')['product_id'].count()\n",
    "print(ped_agr.min())\n",
    "# ¿Todos los pedidos con valores ausentes tienen más de 64 productos?\n",
    "# Agrupa todos los pedidos con datos ausentes por su ID de pedido.\n",
    "# Cuenta el número de 'product_id' en cada pedido y revisa el valor mínimo del conteo.\n"
   ]
  },
  {
   "cell_type": "markdown",
   "id": "p9V6pddtjglj",
   "metadata": {
    "id": "p9V6pddtjglj"
   },
   "source": [
    "Describe brevemente cuáles son tus hallazgos.\n",
    "\n",
    "Parece que no todos los pedidos con valores nan tienen más de 64 productos al menos uno solo tiene 1 solo producto"
   ]
  },
  {
   "cell_type": "code",
   "execution_count": 39,
   "id": "7a987d08",
   "metadata": {
    "id": "7a987d08"
   },
   "outputs": [
    {
     "name": "stdout",
     "output_type": "stream",
     "text": [
      "0    17\n",
      "1     1\n",
      "2     1\n",
      "3    35\n",
      "4     5\n",
      "Name: add_to_cart_order, dtype: int64\n",
      "\n",
      "0\n"
     ]
    }
   ],
   "source": [
    "df_or_pr['add_to_cart_order'].fillna(999, inplace=True)\n",
    "df_or_pr['add_to_cart_order'] = df_or_pr['add_to_cart_order'].astype(int)\n",
    "valores_nulos_despues = df_or_pr['add_to_cart_order'].isna().sum()\n",
    "print(df_or_pr['add_to_cart_order'].head())\n",
    "print()\n",
    "print(valores_nulos_despues)\n",
    "# Remplaza los valores ausentes en la columna 'add_to_cart? con 999 y convierte la columna al tipo entero.\n"
   ]
  },
  {
   "cell_type": "markdown",
   "id": "fea4bcc7",
   "metadata": {
    "id": "fea4bcc7"
   },
   "source": [
    "Describe brevemente tus hallazgos y lo que hiciste con ellos.\n",
    "\n",
    "En resumen, se identificaron valores ausentes en la columna, se reemplazaron con éxito por 999 y se verificó que el reemplazo se realizó de manera correcta."
   ]
  },
  {
   "cell_type": "markdown",
   "id": "RnplPFY1gSrb",
   "metadata": {
    "id": "RnplPFY1gSrb"
   },
   "source": [
    "## Conclusiones\n",
    "\n",
    "Escribe aquí tus conclusiones intermedias sobre el Paso 2. Preprocesamiento de los datos\n",
    "\n",
    "Siempre es importante preprocesar los datos ya que estos pueden tener inconsistencias que nos dificulten hacer nuestros analisis futuros, por lo que este paso es muy importante"
   ]
  },
  {
   "cell_type": "markdown",
   "id": "fefcd06d",
   "metadata": {},
   "source": [
    "<div class=\"alert alert-block alert-warning\">\n",
    "<b>Comentario del revisor #2</b> <a class=\"tocSkip\"></a>\n",
    "    \n",
    "~~Buen trabajo con la revisión de los valores nulos, un consejo de estilo que te puedo dar es que cuando quieras mostrar salidas de tablas uses ``display()`` en vez de ``print()``.~~</div>"
   ]
  },
  {
   "cell_type": "markdown",
   "id": "80ec262d",
   "metadata": {},
   "source": [
    "<div class=\"alert alert-block alert-success\">\n",
    "<b>Comentario del revisor #3</b> <a class=\"tocSkip\"></a>\n",
    "    \n",
    "Buen trabajo.</div>"
   ]
  },
  {
   "cell_type": "markdown",
   "id": "UjrOIwTcz3ri",
   "metadata": {
    "id": "UjrOIwTcz3ri"
   },
   "source": [
    "# Paso 3. Análisis de los datos\n",
    "\n",
    "Una vez los datos estén procesados y listos, haz el siguiente análisis:"
   ]
  },
  {
   "cell_type": "markdown",
   "id": "turkish-kidney",
   "metadata": {
    "id": "turkish-kidney"
   },
   "source": [
    "# [A] Fácil (deben completarse todos para aprobar)\n",
    "\n",
    "1. Verifica que los valores en las columnas `'order_hour_of_day'` y `'order_dow'` en la tabla orders sean razonables (es decir, `'order_hour_of_day'` oscile entre 0 y 23 y `'order_dow'` oscile entre 0 y 6).\n",
    "2. Crea un gráfico que muestre el número de personas que hacen pedidos dependiendo de la hora del día.\n",
    "3. Crea un gráfico que muestre qué día de la semana la gente hace sus compras.\n",
    "4. Crea un gráfico que muestre el tiempo que la gente espera hasta hacer su siguiente pedido, y comenta sobre los valores mínimos y máximos."
   ]
  },
  {
   "cell_type": "markdown",
   "id": "short-capability",
   "metadata": {
    "id": "short-capability"
   },
   "source": [
    "### [A1] Verifica que los valores sean sensibles"
   ]
  },
  {
   "cell_type": "code",
   "execution_count": 45,
   "id": "growing-fruit",
   "metadata": {
    "id": "growing-fruit",
    "scrolled": true
   },
   "outputs": [
    {
     "name": "stdout",
     "output_type": "stream",
     "text": [
      "count    478952.000000\n",
      "mean         13.447034\n",
      "std           4.224567\n",
      "min           0.000000\n",
      "25%          10.000000\n",
      "50%          13.000000\n",
      "75%          16.000000\n",
      "max          23.000000\n",
      "Name: order_hour_of_day, dtype: float64\n"
     ]
    }
   ],
   "source": [
    "print(df_orders['order_hour_of_day'].describe())"
   ]
  },
  {
   "cell_type": "code",
   "execution_count": 44,
   "id": "accessory-malaysia",
   "metadata": {
    "id": "accessory-malaysia"
   },
   "outputs": [
    {
     "name": "stdout",
     "output_type": "stream",
     "text": [
      "count    478952.000000\n",
      "mean          2.775051\n",
      "std           2.045901\n",
      "min           0.000000\n",
      "25%           1.000000\n",
      "50%           3.000000\n",
      "75%           5.000000\n",
      "max           6.000000\n",
      "Name: order_dow, dtype: float64\n"
     ]
    }
   ],
   "source": [
    "print(df_orders['order_dow'].describe())"
   ]
  },
  {
   "cell_type": "markdown",
   "id": "hmR2GNQ6lCsX",
   "metadata": {
    "id": "hmR2GNQ6lCsX"
   },
   "source": [
    "Escribe aquí tus conclusiones\n",
    "Los valores son razonables"
   ]
  },
  {
   "cell_type": "markdown",
   "id": "44b3fcfc",
   "metadata": {},
   "source": [
    "<div class=\"alert alert-block alert-warning\">\n",
    "<b>Comentario del revisor #2</b> <a class=\"tocSkip\"></a>\n",
    "    \n",
    "~~Buen trabajo; sin embargo, siento que la respuesta se podría ver más ordenada si usas un ``describe()``~~</div>"
   ]
  },
  {
   "cell_type": "markdown",
   "id": "44125bcd",
   "metadata": {},
   "source": [
    "<div class=\"alert alert-block alert-success\">\n",
    "<b>Comentario del revisor #3</b> <a class=\"tocSkip\"></a>\n",
    "    \n",
    "Buen trabajo.</div>"
   ]
  },
  {
   "cell_type": "markdown",
   "id": "a6743a70",
   "metadata": {
    "id": "a6743a70"
   },
   "source": [
    "### [A2] Para cada hora del día, ¿cuántas personas hacen órdenes?"
   ]
  },
  {
   "cell_type": "code",
   "execution_count": 47,
   "id": "a36cca27",
   "metadata": {
    "id": "a36cca27"
   },
   "outputs": [
    {
     "name": "stdout",
     "output_type": "stream",
     "text": [
      "0      3180\n",
      "1      1763\n",
      "2       989\n",
      "3       770\n",
      "4       765\n",
      "5      1371\n",
      "6      4215\n",
      "7     13043\n",
      "8     25024\n",
      "9     35896\n",
      "10    40578\n",
      "11    40032\n",
      "12    38034\n",
      "13    39007\n",
      "14    39631\n",
      "15    39789\n",
      "16    38112\n",
      "17    31930\n",
      "18    25510\n",
      "19    19547\n",
      "20    14624\n",
      "21    11019\n",
      "22     8512\n",
      "23     5611\n",
      "Name: order_hour_of_day, dtype: int64\n"
     ]
    },
    {
     "data": {
      "image/png": "[encoded data removed]",
      "text/plain": [
       "<Figure size 720x720 with 1 Axes>"
      ]
     },
     "metadata": {
      "needs_background": "light"
     },
     "output_type": "display_data"
    }
   ],
   "source": [
    "pedidos_por_hora = df_orders['order_hour_of_day'].value_counts().sort_index()\n",
    "print(pedidos_por_hora )\n",
    "\n",
    "pedidos_por_hora.plot(title= 'Pedidos a cada hora', style='o',\n",
    "        xlabel='Horas',ylabel='Num.pedidos',xlim=[0,23],ylim=[0,50000],\n",
    "       figsize=[10,10], kind = 'bar')\n",
    "\n",
    "\n",
    "plt.show()"
   ]
  },
  {
   "cell_type": "markdown",
   "id": "48169939",
   "metadata": {},
   "source": [
    "<div class=\"alert alert-block alert-warning\">\n",
    "<b>Comentario del revisor #2</b> <a class=\"tocSkip\"></a>\n",
    "    \n",
    "~~Buen trabajo; sin embargo, siento que sería mejor usar un gráfico de barras en esta pregunta, puesto que las horas las manejamos en últimas como una categoría sobre la cual queremos representar una magnitud (número de pedidos). Un scatterplot puede ser mas útil cuando comparamos dos variables netamente numéricas.~~</div>"
   ]
  },
  {
   "cell_type": "markdown",
   "id": "7448fd18",
   "metadata": {},
   "source": [
    "<div class=\"alert alert-block alert-success\">\n",
    "<b>Comentario del revisor #3</b> <a class=\"tocSkip\"></a>\n",
    "    \n",
    "Buen trabajo.</div>"
   ]
  },
  {
   "cell_type": "markdown",
   "id": "11270eed",
   "metadata": {
    "id": "11270eed"
   },
   "source": [
    "Escribe aquí tus conclusiones\n",
    "Se tienen mas pedidos entre las 700 horas y las 1800"
   ]
  },
  {
   "cell_type": "markdown",
   "id": "documented-command",
   "metadata": {
    "id": "documented-command"
   },
   "source": [
    "### [A3] ¿Qué día de la semana compran víveres las personas?"
   ]
  },
  {
   "cell_type": "code",
   "execution_count": 48,
   "id": "chief-digit",
   "metadata": {
    "id": "chief-digit"
   },
   "outputs": [
    {
     "name": "stdout",
     "output_type": "stream",
     "text": [
      "0    84090\n",
      "1    82185\n",
      "2    65833\n",
      "3    60897\n",
      "4    59810\n",
      "5    63488\n",
      "6    62649\n",
      "Name: order_dow, dtype: int64\n"
     ]
    },
    {
     "data": {
      "image/png": "[encoded data removed]",
      "text/plain": [
       "<Figure size 720x720 with 1 Axes>"
      ]
     },
     "metadata": {
      "needs_background": "light"
     },
     "output_type": "display_data"
    }
   ],
   "source": [
    "dia_semana=df_orders['order_dow'].value_counts().sort_index()\n",
    "print(dia_semana)\n",
    "dia_semana.plot(title= 'Dia de compras', style='o',\n",
    "        xlabel='Dia',ylabel='Num.pedidos',xlim=[0,6],ylim=[0,85000],\n",
    "       figsize=[10,10], kind='bar')\n",
    "\n",
    "\n",
    "plt.show()"
   ]
  },
  {
   "cell_type": "markdown",
   "id": "dominant-lightning",
   "metadata": {
    "id": "dominant-lightning"
   },
   "source": [
    "Escribe aquí tus conclusiones\n",
    "Domingo y lunes son los dias que mas se realizan compras"
   ]
  },
  {
   "cell_type": "markdown",
   "id": "bc0682a9",
   "metadata": {},
   "source": [
    "<div class=\"alert alert-block alert-warning\">\n",
    "<b>Comentario del revisor #2</b> <a class=\"tocSkip\"></a>\n",
    "    \n",
    "~~Buen trabajo; sin embargo, siento que sería mejor usar un gráfico de barras en esta pregunta, puesto que los días de la semana en últimas son una categoría sobre la cual queremos representar una magnitud (número de pedidos). Un scatterplot puede ser mas útil cuando comparamos dos variables netamente numéricas.~~</div>"
   ]
  },
  {
   "cell_type": "markdown",
   "id": "5d7796d8",
   "metadata": {},
   "source": [
    "<div class=\"alert alert-block alert-success\">\n",
    "<b>Comentario del revisor #3</b> <a class=\"tocSkip\"></a>\n",
    "    \n",
    "Buen trabajo.</div>"
   ]
  },
  {
   "cell_type": "markdown",
   "id": "cutting-concert",
   "metadata": {
    "id": "cutting-concert"
   },
   "source": [
    "### [A4] ¿Cuánto tiempo esperan las personas hasta hacer otro pedido? Comenta sobre los valores mínimos y máximos."
   ]
  },
  {
   "cell_type": "code",
   "execution_count": 39,
   "id": "c231f523",
   "metadata": {
    "id": "c231f523"
   },
   "outputs": [
    {
     "name": "stdout",
     "output_type": "stream",
     "text": [
      "0.0      9589\n",
      "1.0     20179\n",
      "2.0     27138\n",
      "3.0     30224\n",
      "4.0     31006\n",
      "5.0     30096\n",
      "6.0     33930\n",
      "7.0     44577\n",
      "8.0     25361\n",
      "9.0     16753\n",
      "10.0    13309\n",
      "11.0    11467\n",
      "12.0    10658\n",
      "13.0    11737\n",
      "14.0    13992\n",
      "15.0     9416\n",
      "16.0     6587\n",
      "17.0     5498\n",
      "18.0     4971\n",
      "19.0     4939\n",
      "20.0     5302\n",
      "21.0     6448\n",
      "22.0     4514\n",
      "23.0     3337\n",
      "24.0     3015\n",
      "25.0     2711\n",
      "26.0     2640\n",
      "27.0     2986\n",
      "28.0     3745\n",
      "29.0     2673\n",
      "30.0    51337\n",
      "Name: days_since_prior_order, dtype: int64\n"
     ]
    },
    {
     "data": {
      "image/png": "[encoded data removed]",
      "text/plain": [
       "<Figure size 720x720 with 1 Axes>"
      ]
     },
     "metadata": {
      "needs_background": "light"
     },
     "output_type": "display_data"
    }
   ],
   "source": [
    "dias_transcurridos =df_orders['days_since_prior_order'].value_counts().sort_index()\n",
    "print(dias_transcurridos)\n",
    "dias_transcurridos.plot(title= 'Dias Transcurridos', style='o',\n",
    "        xlabel='Dias transcurridos',ylabel='Num.pedidos',xlim=[0,30],ylim=[0,45000],\n",
    "       figsize=[10,10])\n",
    "\n",
    "\n",
    "plt.show()"
   ]
  },
  {
   "cell_type": "markdown",
   "id": "discrete-vertex",
   "metadata": {
    "id": "discrete-vertex"
   },
   "source": [
    "Escribe aquí tus conclusiones\n",
    "la mayoria deja pasar al menos 6 dias por lo que se podria concluir que compran cada semana, en cuanto al valor minimo y maximo, parece que los datos solo tomaron un mes como referencia."
   ]
  },
  {
   "cell_type": "markdown",
   "id": "78ab87ae",
   "metadata": {},
   "source": [
    "<div class=\"alert alert-block alert-success\">\n",
    "<b>Comentario del revisor #2</b> <a class=\"tocSkip\"></a>\n",
    "    \n",
    "Buen trabajo.</div>"
   ]
  },
  {
   "cell_type": "markdown",
   "id": "tight-staff",
   "metadata": {
    "id": "tight-staff"
   },
   "source": [
    "# [B] Intermedio (deben completarse todos para aprobar)\n",
    "\n",
    "1. ¿Existe alguna diferencia entre las distribuciones `'order_hour_of_day'` de los miércoles y los sábados? Traza gráficos de barra de `'order_hour_of_day'` para ambos días en la misma figura y describe las diferencias que observes.\n",
    "2. Grafica la distribución para el número de órdenes que hacen los clientes (es decir, cuántos clientes hicieron solo 1 pedido, cuántos hicieron 2, cuántos 3, y así sucesivamente...).\n",
    "3. ¿Cuáles son los 20 principales productos que se piden con más frecuencia (muestra su identificación y nombre)?"
   ]
  },
  {
   "cell_type": "markdown",
   "id": "packed-classic",
   "metadata": {
    "id": "packed-classic"
   },
   "source": [
    "### [B1] Diferencia entre miércoles y sábados para  `'order_hour_of_day'`. Traza gráficos de barra para los dos días y describe las diferencias que veas."
   ]
  },
  {
   "cell_type": "code",
   "execution_count": 49,
   "id": "d89b8403",
   "metadata": {
    "id": "d89b8403"
   },
   "outputs": [
    {
     "data": {
      "text/html": [
       "<div>\n",
       "<style scoped>\n",
       "    .dataframe tbody tr th:only-of-type {\n",
       "        vertical-align: middle;\n",
       "    }\n",
       "\n",
       "    .dataframe tbody tr th {\n",
       "        vertical-align: top;\n",
       "    }\n",
       "\n",
       "    .dataframe thead th {\n",
       "        text-align: right;\n",
       "    }\n",
       "</style>\n",
       "<table border=\"1\" class=\"dataframe\">\n",
       "  <thead>\n",
       "    <tr style=\"text-align: right;\">\n",
       "      <th></th>\n",
       "      <th>order_id</th>\n",
       "      <th>user_id</th>\n",
       "      <th>order_number</th>\n",
       "      <th>order_dow</th>\n",
       "      <th>order_hour_of_day</th>\n",
       "      <th>days_since_prior_order</th>\n",
       "    </tr>\n",
       "  </thead>\n",
       "  <tbody>\n",
       "    <tr>\n",
       "      <th>6</th>\n",
       "      <td>2511640</td>\n",
       "      <td>148233</td>\n",
       "      <td>40</td>\n",
       "      <td>3</td>\n",
       "      <td>8</td>\n",
       "      <td>2.0</td>\n",
       "    </tr>\n",
       "    <tr>\n",
       "      <th>16</th>\n",
       "      <td>3109465</td>\n",
       "      <td>55090</td>\n",
       "      <td>19</td>\n",
       "      <td>3</td>\n",
       "      <td>15</td>\n",
       "      <td>9.0</td>\n",
       "    </tr>\n",
       "    <tr>\n",
       "      <th>28</th>\n",
       "      <td>133707</td>\n",
       "      <td>182261</td>\n",
       "      <td>1</td>\n",
       "      <td>3</td>\n",
       "      <td>10</td>\n",
       "      <td>NaN</td>\n",
       "    </tr>\n",
       "    <tr>\n",
       "      <th>30</th>\n",
       "      <td>1890318</td>\n",
       "      <td>193501</td>\n",
       "      <td>3</td>\n",
       "      <td>3</td>\n",
       "      <td>15</td>\n",
       "      <td>30.0</td>\n",
       "    </tr>\n",
       "    <tr>\n",
       "      <th>35</th>\n",
       "      <td>125325</td>\n",
       "      <td>106853</td>\n",
       "      <td>6</td>\n",
       "      <td>3</td>\n",
       "      <td>19</td>\n",
       "      <td>30.0</td>\n",
       "    </tr>\n",
       "    <tr>\n",
       "      <th>...</th>\n",
       "      <td>...</td>\n",
       "      <td>...</td>\n",
       "      <td>...</td>\n",
       "      <td>...</td>\n",
       "      <td>...</td>\n",
       "      <td>...</td>\n",
       "    </tr>\n",
       "    <tr>\n",
       "      <th>478902</th>\n",
       "      <td>972799</td>\n",
       "      <td>89702</td>\n",
       "      <td>4</td>\n",
       "      <td>3</td>\n",
       "      <td>7</td>\n",
       "      <td>10.0</td>\n",
       "    </tr>\n",
       "    <tr>\n",
       "      <th>478931</th>\n",
       "      <td>2406747</td>\n",
       "      <td>63101</td>\n",
       "      <td>11</td>\n",
       "      <td>3</td>\n",
       "      <td>8</td>\n",
       "      <td>5.0</td>\n",
       "    </tr>\n",
       "    <tr>\n",
       "      <th>478941</th>\n",
       "      <td>640934</td>\n",
       "      <td>27104</td>\n",
       "      <td>9</td>\n",
       "      <td>3</td>\n",
       "      <td>10</td>\n",
       "      <td>6.0</td>\n",
       "    </tr>\n",
       "    <tr>\n",
       "      <th>478948</th>\n",
       "      <td>3270802</td>\n",
       "      <td>112087</td>\n",
       "      <td>2</td>\n",
       "      <td>3</td>\n",
       "      <td>13</td>\n",
       "      <td>6.0</td>\n",
       "    </tr>\n",
       "    <tr>\n",
       "      <th>478950</th>\n",
       "      <td>216274</td>\n",
       "      <td>4391</td>\n",
       "      <td>3</td>\n",
       "      <td>3</td>\n",
       "      <td>8</td>\n",
       "      <td>8.0</td>\n",
       "    </tr>\n",
       "  </tbody>\n",
       "</table>\n",
       "<p>60897 rows × 6 columns</p>\n",
       "</div>"
      ],
      "text/plain": [
       "        order_id  user_id  order_number  order_dow  order_hour_of_day  \\\n",
       "6        2511640   148233            40          3                  8   \n",
       "16       3109465    55090            19          3                 15   \n",
       "28        133707   182261             1          3                 10   \n",
       "30       1890318   193501             3          3                 15   \n",
       "35        125325   106853             6          3                 19   \n",
       "...          ...      ...           ...        ...                ...   \n",
       "478902    972799    89702             4          3                  7   \n",
       "478931   2406747    63101            11          3                  8   \n",
       "478941    640934    27104             9          3                 10   \n",
       "478948   3270802   112087             2          3                 13   \n",
       "478950    216274     4391             3          3                  8   \n",
       "\n",
       "        days_since_prior_order  \n",
       "6                          2.0  \n",
       "16                         9.0  \n",
       "28                         NaN  \n",
       "30                        30.0  \n",
       "35                        30.0  \n",
       "...                        ...  \n",
       "478902                    10.0  \n",
       "478931                     5.0  \n",
       "478941                     6.0  \n",
       "478948                     6.0  \n",
       "478950                     8.0  \n",
       "\n",
       "[60897 rows x 6 columns]"
      ]
     },
     "metadata": {},
     "output_type": "display_data"
    }
   ],
   "source": [
    "ped_mier = df_orders[df_orders['order_dow'] == 3]\n",
    "display(ped_mier)"
   ]
  },
  {
   "cell_type": "code",
   "execution_count": 50,
   "id": "94e54e8a",
   "metadata": {
    "id": "94e54e8a"
   },
   "outputs": [
    {
     "data": {
      "text/html": [
       "<div>\n",
       "<style scoped>\n",
       "    .dataframe tbody tr th:only-of-type {\n",
       "        vertical-align: middle;\n",
       "    }\n",
       "\n",
       "    .dataframe tbody tr th {\n",
       "        vertical-align: top;\n",
       "    }\n",
       "\n",
       "    .dataframe thead th {\n",
       "        text-align: right;\n",
       "    }\n",
       "</style>\n",
       "<table border=\"1\" class=\"dataframe\">\n",
       "  <thead>\n",
       "    <tr style=\"text-align: right;\">\n",
       "      <th></th>\n",
       "      <th>order_id</th>\n",
       "      <th>user_id</th>\n",
       "      <th>order_number</th>\n",
       "      <th>order_dow</th>\n",
       "      <th>order_hour_of_day</th>\n",
       "      <th>days_since_prior_order</th>\n",
       "    </tr>\n",
       "  </thead>\n",
       "  <tbody>\n",
       "    <tr>\n",
       "      <th>0</th>\n",
       "      <td>1515936</td>\n",
       "      <td>183418</td>\n",
       "      <td>11</td>\n",
       "      <td>6</td>\n",
       "      <td>13</td>\n",
       "      <td>30.0</td>\n",
       "    </tr>\n",
       "    <tr>\n",
       "      <th>11</th>\n",
       "      <td>102585</td>\n",
       "      <td>191558</td>\n",
       "      <td>18</td>\n",
       "      <td>6</td>\n",
       "      <td>16</td>\n",
       "      <td>8.0</td>\n",
       "    </tr>\n",
       "    <tr>\n",
       "      <th>14</th>\n",
       "      <td>2843219</td>\n",
       "      <td>74699</td>\n",
       "      <td>4</td>\n",
       "      <td>6</td>\n",
       "      <td>11</td>\n",
       "      <td>30.0</td>\n",
       "    </tr>\n",
       "    <tr>\n",
       "      <th>20</th>\n",
       "      <td>50934</td>\n",
       "      <td>178510</td>\n",
       "      <td>9</td>\n",
       "      <td>6</td>\n",
       "      <td>9</td>\n",
       "      <td>5.0</td>\n",
       "    </tr>\n",
       "    <tr>\n",
       "      <th>26</th>\n",
       "      <td>1844247</td>\n",
       "      <td>122558</td>\n",
       "      <td>4</td>\n",
       "      <td>6</td>\n",
       "      <td>18</td>\n",
       "      <td>30.0</td>\n",
       "    </tr>\n",
       "    <tr>\n",
       "      <th>...</th>\n",
       "      <td>...</td>\n",
       "      <td>...</td>\n",
       "      <td>...</td>\n",
       "      <td>...</td>\n",
       "      <td>...</td>\n",
       "      <td>...</td>\n",
       "    </tr>\n",
       "    <tr>\n",
       "      <th>478909</th>\n",
       "      <td>3274344</td>\n",
       "      <td>145367</td>\n",
       "      <td>13</td>\n",
       "      <td>6</td>\n",
       "      <td>10</td>\n",
       "      <td>13.0</td>\n",
       "    </tr>\n",
       "    <tr>\n",
       "      <th>478915</th>\n",
       "      <td>489820</td>\n",
       "      <td>7287</td>\n",
       "      <td>14</td>\n",
       "      <td>6</td>\n",
       "      <td>19</td>\n",
       "      <td>2.0</td>\n",
       "    </tr>\n",
       "    <tr>\n",
       "      <th>478928</th>\n",
       "      <td>548902</td>\n",
       "      <td>6829</td>\n",
       "      <td>3</td>\n",
       "      <td>6</td>\n",
       "      <td>10</td>\n",
       "      <td>30.0</td>\n",
       "    </tr>\n",
       "    <tr>\n",
       "      <th>478939</th>\n",
       "      <td>984024</td>\n",
       "      <td>47076</td>\n",
       "      <td>2</td>\n",
       "      <td>6</td>\n",
       "      <td>21</td>\n",
       "      <td>6.0</td>\n",
       "    </tr>\n",
       "    <tr>\n",
       "      <th>478946</th>\n",
       "      <td>3006133</td>\n",
       "      <td>34561</td>\n",
       "      <td>7</td>\n",
       "      <td>6</td>\n",
       "      <td>10</td>\n",
       "      <td>30.0</td>\n",
       "    </tr>\n",
       "  </tbody>\n",
       "</table>\n",
       "<p>62649 rows × 6 columns</p>\n",
       "</div>"
      ],
      "text/plain": [
       "        order_id  user_id  order_number  order_dow  order_hour_of_day  \\\n",
       "0        1515936   183418            11          6                 13   \n",
       "11        102585   191558            18          6                 16   \n",
       "14       2843219    74699             4          6                 11   \n",
       "20         50934   178510             9          6                  9   \n",
       "26       1844247   122558             4          6                 18   \n",
       "...          ...      ...           ...        ...                ...   \n",
       "478909   3274344   145367            13          6                 10   \n",
       "478915    489820     7287            14          6                 19   \n",
       "478928    548902     6829             3          6                 10   \n",
       "478939    984024    47076             2          6                 21   \n",
       "478946   3006133    34561             7          6                 10   \n",
       "\n",
       "        days_since_prior_order  \n",
       "0                         30.0  \n",
       "11                         8.0  \n",
       "14                        30.0  \n",
       "20                         5.0  \n",
       "26                        30.0  \n",
       "...                        ...  \n",
       "478909                    13.0  \n",
       "478915                     2.0  \n",
       "478928                    30.0  \n",
       "478939                     6.0  \n",
       "478946                    30.0  \n",
       "\n",
       "[62649 rows x 6 columns]"
      ]
     },
     "metadata": {},
     "output_type": "display_data"
    }
   ],
   "source": [
    "ped_sab = df_orders[df_orders['order_dow']== 6]\n",
    "display(ped_sab)"
   ]
  },
  {
   "cell_type": "code",
   "execution_count": 52,
   "id": "797c90a8",
   "metadata": {
    "id": "797c90a8"
   },
   "outputs": [
    {
     "name": "stdout",
     "output_type": "stream",
     "text": [
      "0      373\n",
      "1      215\n",
      "2      106\n",
      "3      101\n",
      "4      108\n",
      "5      170\n",
      "6      643\n",
      "7     1732\n",
      "8     3125\n",
      "9     4490\n",
      "10    5026\n",
      "11    5004\n",
      "12    4688\n",
      "13    4674\n",
      "14    4774\n",
      "15    5163\n",
      "16    4976\n",
      "17    4175\n",
      "18    3463\n",
      "19    2652\n",
      "20    1917\n",
      "21    1450\n",
      "22    1154\n",
      "23     718\n",
      "Name: order_hour_of_day, dtype: int64\n",
      "0      464\n",
      "1      254\n",
      "2      177\n",
      "3      125\n",
      "4      118\n",
      "5      161\n",
      "6      451\n",
      "7     1619\n",
      "8     3246\n",
      "9     4311\n",
      "10    4919\n",
      "11    5116\n",
      "12    5132\n",
      "13    5323\n",
      "14    5375\n",
      "15    5188\n",
      "16    5029\n",
      "17    4295\n",
      "18    3338\n",
      "19    2610\n",
      "20    1847\n",
      "21    1473\n",
      "22    1185\n",
      "23     893\n",
      "Name: order_hour_of_day, dtype: int64\n"
     ]
    }
   ],
   "source": [
    "ped_hr_mie = ped_mier['order_hour_of_day'].value_counts().sort_index()\n",
    "ped_hr_sab = ped_sab['order_hour_of_day'].value_counts().sort_index()\n",
    "print(ped_hr_mie)\n",
    "print(ped_hr_sab)"
   ]
  },
  {
   "cell_type": "code",
   "execution_count": 53,
   "id": "35bcea30",
   "metadata": {
    "id": "35bcea30"
   },
   "outputs": [
    {
     "data": {
      "image/png": "[encoded data removed]",
      "text/plain": [
       "<Figure size 432x288 with 1 Axes>"
      ]
     },
     "metadata": {
      "needs_background": "light"
     },
     "output_type": "display_data"
    }
   ],
   "source": [
    "ped_hr_mie.plot(kind='bar',title='Numero de ordenes en miercoles y sabado por hora',\n",
    "        xlabel='Hora',\n",
    "        ylabel='Num. ordenes',\n",
    "        color='red')\n",
    "ped_hr_sab.plot(kind='bar',alpha=0.8 )\n",
    "plt.legend(['Miercoles', 'Sabado']) \n",
    "plt.show() \n",
    "\n"
   ]
  },
  {
   "cell_type": "markdown",
   "id": "charitable-congo",
   "metadata": {
    "id": "charitable-congo"
   },
   "source": [
    "Escribe aquí tus conclusiones\n",
    "La discrepancia entre los dos dias no es muy grande, sin embargo en sabado el crecimiento de pedidos entre las 900hrs y las 1500 es constante, mientras que en miercoles de las 1200 a las 1500 hay un decremento."
   ]
  },
  {
   "cell_type": "markdown",
   "id": "0d72ac39",
   "metadata": {},
   "source": [
    "<div class=\"alert alert-block alert-warning\">\n",
    "<b>Comentario del revisor #2</b> <a class=\"tocSkip\"></a>\n",
    "    \n",
    "Podrías mejorar el orden de la respuesta siguiendo consejos como el de ``display()``</div>"
   ]
  },
  {
   "cell_type": "markdown",
   "id": "e3891143",
   "metadata": {
    "id": "e3891143"
   },
   "source": [
    "### [B2] ¿Cuál es la distribución para el número de pedidos por cliente?"
   ]
  },
  {
   "cell_type": "code",
   "execution_count": 44,
   "id": "d8c26c23",
   "metadata": {
    "id": "d8c26c23"
   },
   "outputs": [
    {
     "name": "stdout",
     "output_type": "stream",
     "text": [
      "2         2\n",
      "4         2\n",
      "5         1\n",
      "6         2\n",
      "7         2\n",
      "         ..\n",
      "206203    1\n",
      "206206    7\n",
      "206207    5\n",
      "206208    9\n",
      "206209    2\n",
      "Name: user_id, Length: 157437, dtype: int64\n"
     ]
    }
   ],
   "source": [
    "ords_us = df_orders['user_id'].value_counts().sort_index()\n",
    "print(ords_us)"
   ]
  },
  {
   "cell_type": "code",
   "execution_count": 45,
   "id": "00e69a66",
   "metadata": {
    "id": "00e69a66"
   },
   "outputs": [
    {
     "data": {
      "text/plain": [
       "<AxesSubplot:title={'center':'Pedidos por cliente'}, ylabel='Frequency'>"
      ]
     },
     "execution_count": 45,
     "metadata": {},
     "output_type": "execute_result"
    },
    {
     "data": {
      "image/png": "[encoded data removed]",
      "text/plain": [
       "<Figure size 432x288 with 1 Axes>"
      ]
     },
     "metadata": {
      "needs_background": "light"
     },
     "output_type": "display_data"
    }
   ],
   "source": [
    "ords_us.plot(kind='hist', bins=10, title='Pedidos por cliente',ylabel='Frecuencia')"
   ]
  },
  {
   "cell_type": "markdown",
   "id": "d2eff7d5",
   "metadata": {
    "id": "d2eff7d5"
   },
   "source": [
    "Escribe aquí tus conclusiones\n",
    "La mayoria de clientes solo realizan un pedido"
   ]
  },
  {
   "cell_type": "markdown",
   "id": "49de4de0",
   "metadata": {},
   "source": [
    "<div class=\"alert alert-block alert-success\">\n",
    "<b>Comentario del revisor #2</b> <a class=\"tocSkip\"></a>\n",
    "    \n",
    "Buen trabajo.</div>"
   ]
  },
  {
   "cell_type": "markdown",
   "id": "54a0319c",
   "metadata": {
    "id": "54a0319c"
   },
   "source": [
    "### [B3] ¿Cuáles son los 20 productos más populares (muestra su ID y nombre)?"
   ]
  },
  {
   "cell_type": "code",
   "execution_count": 46,
   "id": "exterior-arizona",
   "metadata": {
    "id": "exterior-arizona",
    "scrolled": true
   },
   "outputs": [],
   "source": [
    "df_merged = df_orders.merge(df_or_pr, on='order_id', how='inner')\n",
    "df_merged = df_merged.merge(df_products[['product_id', 'product_name']], on='product_id', how='inner')"
   ]
  },
  {
   "cell_type": "code",
   "execution_count": 47,
   "id": "universal-facial",
   "metadata": {
    "id": "universal-facial"
   },
   "outputs": [],
   "source": [
    "productos_mas_frecuentes = df_merged['product_name'].value_counts().head(20)"
   ]
  },
  {
   "cell_type": "code",
   "execution_count": 48,
   "id": "bbcdd20b",
   "metadata": {
    "id": "bbcdd20b"
   },
   "outputs": [
    {
     "name": "stdout",
     "output_type": "stream",
     "text": [
      "         Nombre del Producto  Frecuencia\n",
      "0                     BANANA       66050\n",
      "1     BAG OF ORGANIC BANANAS       53297\n",
      "2       ORGANIC STRAWBERRIES       37039\n",
      "3       ORGANIC BABY SPINACH       33971\n",
      "4       ORGANIC HASS AVOCADO       29773\n",
      "5            ORGANIC AVOCADO       24689\n",
      "6                LARGE LEMON       21495\n",
      "7               STRAWBERRIES       20018\n",
      "8                      LIMES       19690\n",
      "9         ORGANIC WHOLE MILK       19600\n",
      "10       ORGANIC RASPBERRIES       19197\n",
      "11      ORGANIC YELLOW ONION       15898\n",
      "12            ORGANIC GARLIC       15292\n",
      "13          ORGANIC ZUCCHINI       14584\n",
      "14       ORGANIC BLUEBERRIES       13879\n",
      "15            CUCUMBER KIRBY       13675\n",
      "16        ORGANIC FUJI APPLE       12544\n",
      "17             ORGANIC LEMON       12232\n",
      "18  APPLE HONEYCRISP ORGANIC       11993\n",
      "19    ORGANIC GRAPE TOMATOES       11781\n"
     ]
    }
   ],
   "source": [
    "print(productos_mas_frecuentes.reset_index().rename(columns={'index': 'Nombre del Producto', 'product_name': 'Frecuencia'}))"
   ]
  },
  {
   "cell_type": "markdown",
   "id": "7df00f47",
   "metadata": {
    "id": "7df00f47"
   },
   "source": [
    "Escribe aquí tus conclusiones\n",
    "El producto mas vendido son las bananas robandose, el primer y segundo lugar. "
   ]
  },
  {
   "cell_type": "markdown",
   "id": "6a227604",
   "metadata": {},
   "source": [
    "<div class=\"alert alert-block alert-success\">\n",
    "<b>Comentario del revisor #2</b> <a class=\"tocSkip\"></a>\n",
    "    \n",
    "Buen trabajo.</div>"
   ]
  },
  {
   "cell_type": "markdown",
   "id": "gross-theme",
   "metadata": {
    "id": "gross-theme"
   },
   "source": [
    "# [C] Difícil (deben completarse todos para aprobar)\n",
    "\n",
    "1. ¿Cuántos artículos suelen comprar las personas en un pedido? ¿Cómo es la distribución?\n",
    "2. ¿Cuáles son los 20 principales artículos que vuelven a pedirse con mayor frecuencia (muestra sus nombres e IDs de los productos)?\n",
    "3. Para cada producto, ¿cuál es la tasa de repetición del pedido (número de repeticiones de pedido/total de pedidos?\n",
    "4. Para cada cliente, ¿qué proporción de los productos que pidió ya los había pedido? Calcula la tasa de repetición de pedido para cada usuario en lugar de para cada producto.\n",
    "5. ¿Cuáles son los 20 principales artículos que la gente pone primero en sus carritos (muestra las IDs de los productos, sus nombres, y el número de veces en que fueron el primer artículo en añadirse al carrito)?"
   ]
  },
  {
   "cell_type": "markdown",
   "id": "romantic-deposit",
   "metadata": {
    "id": "romantic-deposit"
   },
   "source": [
    "### [C1] ¿Cuántos artículos compran normalmente las personas en un pedido? ¿Cómo es la distribución?"
   ]
  },
  {
   "cell_type": "code",
   "execution_count": 49,
   "id": "virtual-punch",
   "metadata": {
    "id": "virtual-punch"
   },
   "outputs": [
    {
     "name": "stdout",
     "output_type": "stream",
     "text": [
      "10.098983215049127\n"
     ]
    }
   ],
   "source": [
    "conteo_productos_por_pedido = df_or_pr.groupby('order_id')['product_id'].count()\n",
    "promedio_articulos_por_pedido = conteo_productos_por_pedido.mean()\n",
    "print(promedio_articulos_por_pedido )"
   ]
  },
  {
   "cell_type": "code",
   "execution_count": 50,
   "id": "sensitive-breathing",
   "metadata": {
    "id": "sensitive-breathing"
   },
   "outputs": [
    {
     "data": {
      "image/png": "[encoded data removed]",
      "text/plain": [
       "<Figure size 432x288 with 1 Axes>"
      ]
     },
     "metadata": {
      "needs_background": "light"
     },
     "output_type": "display_data"
    }
   ],
   "source": [
    "conteo_productos_por_pedido.plot(kind='hist', bins=30, title='Distribución de la Cantidad de Artículos por Pedido'\n",
    "                                 ,ylabel='Frecuencia', xlabel=\"Cantidad de Artículos por Pedido\")\n",
    "plt.show()\n"
   ]
  },
  {
   "cell_type": "markdown",
   "id": "50356ac2",
   "metadata": {
    "id": "completed-frank"
   },
   "source": [
    "Tenemos una distribucion sesgada hacia la derecha"
   ]
  },
  {
   "cell_type": "markdown",
   "id": "designed-mortality",
   "metadata": {
    "id": "designed-mortality"
   },
   "source": [
    "Escribe aquí tus conclusiones\n",
    "No entiendo bien como determinar la distribucion"
   ]
  },
  {
   "cell_type": "markdown",
   "id": "7880262c",
   "metadata": {},
   "source": [
    "<div class=\"alert alert-block alert-success\">\n",
    "<b>Comentario del revisor #2</b> <a class=\"tocSkip\"></a>\n",
    "    \n",
    "Buen trabajo.</div>"
   ]
  },
  {
   "cell_type": "markdown",
   "id": "5e6b5537",
   "metadata": {
    "id": "5e6b5537"
   },
   "source": [
    "### [C2] ¿Cuáles son los 20 principales artículos que vuelven a pedirse con mayor frecuencia (muestra sus nombres e IDs de los productos)?"
   ]
  },
  {
   "cell_type": "code",
   "execution_count": 51,
   "id": "9374e55a",
   "metadata": {
    "id": "9374e55a"
   },
   "outputs": [],
   "source": [
    "produc_reord = df_or_pr[df_or_pr['reordered'] == 1]"
   ]
  },
  {
   "cell_type": "code",
   "execution_count": 52,
   "id": "possible-change",
   "metadata": {
    "id": "possible-change",
    "scrolled": true
   },
   "outputs": [],
   "source": [
    "produc_frec_reord = produc_reord['product_id'].value_counts().head(20).reset_index()"
   ]
  },
  {
   "cell_type": "code",
   "execution_count": 53,
   "id": "professional-surfing",
   "metadata": {
    "id": "professional-surfing",
    "scrolled": true
   },
   "outputs": [],
   "source": [
    "produc_frec_reord.columns = ['product_id', 'frecuencia']\n",
    "produc_frec_reord = produc_frec_reord.merge(df_products[['product_id', 'product_name']], on='product_id', how='left')\n",
    "produc_frec_reord = produc_frec_reord[['product_id', 'product_name', 'frecuencia']]"
   ]
  },
  {
   "cell_type": "code",
   "execution_count": 54,
   "id": "48dd3658",
   "metadata": {
    "id": "48dd3658"
   },
   "outputs": [
    {
     "name": "stdout",
     "output_type": "stream",
     "text": [
      "    product_id              product_name  frecuencia\n",
      "0        24852                    BANANA       55763\n",
      "1        13176    BAG OF ORGANIC BANANAS       44450\n",
      "2        21137      ORGANIC STRAWBERRIES       28639\n",
      "3        21903      ORGANIC BABY SPINACH       26233\n",
      "4        47209      ORGANIC HASS AVOCADO       23629\n",
      "5        47766           ORGANIC AVOCADO       18743\n",
      "6        27845        ORGANIC WHOLE MILK       16251\n",
      "7        47626               LARGE LEMON       15044\n",
      "8        27966       ORGANIC RASPBERRIES       14748\n",
      "9        16797              STRAWBERRIES       13945\n",
      "10       26209                     LIMES       13327\n",
      "11       22935      ORGANIC YELLOW ONION       11145\n",
      "12       24964            ORGANIC GARLIC       10411\n",
      "13       45007          ORGANIC ZUCCHINI       10076\n",
      "14       49683            CUCUMBER KIRBY        9538\n",
      "15       28204        ORGANIC FUJI APPLE        8989\n",
      "16        8277  APPLE HONEYCRISP ORGANIC        8836\n",
      "17       39275       ORGANIC BLUEBERRIES        8799\n",
      "18        5876             ORGANIC LEMON        8412\n",
      "19       49235       ORGANIC HALF & HALF        8389\n"
     ]
    }
   ],
   "source": [
    "print(produc_frec_reord)"
   ]
  },
  {
   "cell_type": "markdown",
   "id": "80e70c74",
   "metadata": {
    "id": "80e70c74"
   },
   "source": [
    "Escribe aquí tus conclusiones\n",
    "Parece que los 4 productos mas vendidos son tambien los que se vuelven a comprar mas"
   ]
  },
  {
   "cell_type": "markdown",
   "id": "153610c3",
   "metadata": {},
   "source": [
    "<div class=\"alert alert-block alert-success\">\n",
    "<b>Comentario del revisor #2</b> <a class=\"tocSkip\"></a>\n",
    "    \n",
    "Buen trabajo.</div>"
   ]
  },
  {
   "cell_type": "markdown",
   "id": "9d312b14",
   "metadata": {
    "id": "9d312b14"
   },
   "source": [
    "### [C3] Para cada producto, ¿cuál es la proporción de las veces que se pide y que se vuelve a pedir?"
   ]
  },
  {
   "cell_type": "code",
   "execution_count": 55,
   "id": "8ae9f4b1",
   "metadata": {
    "id": "8ae9f4b1"
   },
   "outputs": [],
   "source": [
    "tveces_pedidos = df_or_pr['product_id'].value_counts()\n",
    "produc_reord = df_or_pr[df_or_pr['reordered'] == 1]\n",
    "veces_reordenados = produc_reord['product_id'].value_counts()"
   ]
  },
  {
   "cell_type": "code",
   "execution_count": 56,
   "id": "103e7fe1",
   "metadata": {
    "id": "103e7fe1"
   },
   "outputs": [],
   "source": [
    "propor_reorden = veces_reordenados /tveces_pedidos\n",
    "propor_reorden = propor_reorden.reset_index()\n",
    "propor_reorden.columns = ['product_id', 'propor_reorden']\n",
    "propor_reorden = propor_reorden.merge(df_products[['product_id', 'product_name']], on='product_id', how='left')\n",
    "propor_reorden = propor_reorden[['product_id', 'product_name', 'propor_reorden']]\n",
    "\n"
   ]
  },
  {
   "cell_type": "code",
   "execution_count": 57,
   "id": "social-individual",
   "metadata": {
    "id": "social-individual"
   },
   "outputs": [
    {
     "data": {
      "text/html": [
       "<div>\n",
       "<style scoped>\n",
       "    .dataframe tbody tr th:only-of-type {\n",
       "        vertical-align: middle;\n",
       "    }\n",
       "\n",
       "    .dataframe tbody tr th {\n",
       "        vertical-align: top;\n",
       "    }\n",
       "\n",
       "    .dataframe thead th {\n",
       "        text-align: right;\n",
       "    }\n",
       "</style>\n",
       "<table border=\"1\" class=\"dataframe\">\n",
       "  <thead>\n",
       "    <tr style=\"text-align: right;\">\n",
       "      <th></th>\n",
       "      <th>product_id</th>\n",
       "      <th>product_name</th>\n",
       "      <th>propor_reorden</th>\n",
       "    </tr>\n",
       "  </thead>\n",
       "  <tbody>\n",
       "    <tr>\n",
       "      <th>0</th>\n",
       "      <td>1</td>\n",
       "      <td>CHOCOLATE SANDWICH COOKIES</td>\n",
       "      <td>0.564286</td>\n",
       "    </tr>\n",
       "    <tr>\n",
       "      <th>1</th>\n",
       "      <td>2</td>\n",
       "      <td>ALL-SEASONS SALT</td>\n",
       "      <td>NaN</td>\n",
       "    </tr>\n",
       "    <tr>\n",
       "      <th>2</th>\n",
       "      <td>3</td>\n",
       "      <td>ROBUST GOLDEN UNSWEETENED OOLONG TEA</td>\n",
       "      <td>0.738095</td>\n",
       "    </tr>\n",
       "    <tr>\n",
       "      <th>3</th>\n",
       "      <td>4</td>\n",
       "      <td>SMART ONES CLASSIC FAVORITES MINI RIGATONI WIT...</td>\n",
       "      <td>0.510204</td>\n",
       "    </tr>\n",
       "    <tr>\n",
       "      <th>4</th>\n",
       "      <td>7</td>\n",
       "      <td>PURE COCONUT WATER WITH ORANGE</td>\n",
       "      <td>0.500000</td>\n",
       "    </tr>\n",
       "    <tr>\n",
       "      <th>...</th>\n",
       "      <td>...</td>\n",
       "      <td>...</td>\n",
       "      <td>...</td>\n",
       "    </tr>\n",
       "    <tr>\n",
       "      <th>45568</th>\n",
       "      <td>49690</td>\n",
       "      <td>HIGH PERFORMANCE ENERGY DRINK</td>\n",
       "      <td>0.800000</td>\n",
       "    </tr>\n",
       "    <tr>\n",
       "      <th>45569</th>\n",
       "      <td>49691</td>\n",
       "      <td>ORIGINAL PANCAKE &amp; WAFFLE MIX</td>\n",
       "      <td>0.430556</td>\n",
       "    </tr>\n",
       "    <tr>\n",
       "      <th>45570</th>\n",
       "      <td>49692</td>\n",
       "      <td>ORGANIC INSTANT OATMEAL LIGHT MAPLE BROWN SUGAR</td>\n",
       "      <td>0.416667</td>\n",
       "    </tr>\n",
       "    <tr>\n",
       "      <th>45571</th>\n",
       "      <td>49693</td>\n",
       "      <td>SPRING WATER BODY WASH</td>\n",
       "      <td>0.440000</td>\n",
       "    </tr>\n",
       "    <tr>\n",
       "      <th>45572</th>\n",
       "      <td>49694</td>\n",
       "      <td>BURRITO- STEAK &amp; CHEESE</td>\n",
       "      <td>0.333333</td>\n",
       "    </tr>\n",
       "  </tbody>\n",
       "</table>\n",
       "<p>45573 rows × 3 columns</p>\n",
       "</div>"
      ],
      "text/plain": [
       "       product_id                                       product_name  \\\n",
       "0               1                         CHOCOLATE SANDWICH COOKIES   \n",
       "1               2                                   ALL-SEASONS SALT   \n",
       "2               3               ROBUST GOLDEN UNSWEETENED OOLONG TEA   \n",
       "3               4  SMART ONES CLASSIC FAVORITES MINI RIGATONI WIT...   \n",
       "4               7                     PURE COCONUT WATER WITH ORANGE   \n",
       "...           ...                                                ...   \n",
       "45568       49690                      HIGH PERFORMANCE ENERGY DRINK   \n",
       "45569       49691                      ORIGINAL PANCAKE & WAFFLE MIX   \n",
       "45570       49692    ORGANIC INSTANT OATMEAL LIGHT MAPLE BROWN SUGAR   \n",
       "45571       49693                             SPRING WATER BODY WASH   \n",
       "45572       49694                            BURRITO- STEAK & CHEESE   \n",
       "\n",
       "       propor_reorden  \n",
       "0            0.564286  \n",
       "1                 NaN  \n",
       "2            0.738095  \n",
       "3            0.510204  \n",
       "4            0.500000  \n",
       "...               ...  \n",
       "45568        0.800000  \n",
       "45569        0.430556  \n",
       "45570        0.416667  \n",
       "45571        0.440000  \n",
       "45572        0.333333  \n",
       "\n",
       "[45573 rows x 3 columns]"
      ]
     },
     "metadata": {},
     "output_type": "display_data"
    }
   ],
   "source": [
    "display(propor_reorden)"
   ]
  },
  {
   "cell_type": "code",
   "execution_count": 62,
   "id": "6cf499e5",
   "metadata": {},
   "outputs": [
    {
     "data": {
      "image/png": "[encoded data removed]",
      "text/plain": [
       "<Figure size 720x720 with 1 Axes>"
      ]
     },
     "metadata": {
      "needs_background": "light"
     },
     "output_type": "display_data"
    }
   ],
   "source": [
    "propor_reorden.plot(title= 'proporción de las veces que se pide y que se vuelve a pedir', style='o',\n",
    "        xlabel='ID de Producto',ylabel='Proporcion de reordenamiento',xlim=[0,30],ylim=[0,1],\n",
    "       figsize=[10,10])\n",
    "\n",
    "\n",
    "plt.show()"
   ]
  },
  {
   "cell_type": "markdown",
   "id": "I10dEIAyldcO",
   "metadata": {
    "id": "I10dEIAyldcO"
   },
   "source": [
    "Escribe aquí tus conclusiones\n",
    "Tenemos una relación semi negatica, a medida que el valor de la variable en el eje x aumenta, el valor correspondiente en el eje y tiende a disminuir."
   ]
  },
  {
   "cell_type": "markdown",
   "id": "82ec98a1",
   "metadata": {},
   "source": [
    "<div class=\"alert alert-block alert-warning\">\n",
    "<b>Comentario del revisor #2</b> <a class=\"tocSkip\"></a>\n",
    "    \n",
    "~~Revisa la completitud y el orden del punto.~~</div>"
   ]
  },
  {
   "cell_type": "markdown",
   "id": "846f0fe7",
   "metadata": {},
   "source": [
    "<div class=\"alert alert-block alert-success\">\n",
    "<b>Comentario del revisor #3</b> <a class=\"tocSkip\"></a>\n",
    "    \n",
    "Buen trabajo.</div>"
   ]
  },
  {
   "cell_type": "markdown",
   "id": "subject-boxing",
   "metadata": {
    "id": "subject-boxing"
   },
   "source": [
    "### [C4] Para cada cliente, ¿qué proporción de sus productos ya los había pedido?"
   ]
  },
  {
   "cell_type": "code",
   "execution_count": 63,
   "id": "8892e4b4",
   "metadata": {
    "id": "8892e4b4"
   },
   "outputs": [
    {
     "data": {
      "text/html": [
       "<div>\n",
       "<style scoped>\n",
       "    .dataframe tbody tr th:only-of-type {\n",
       "        vertical-align: middle;\n",
       "    }\n",
       "\n",
       "    .dataframe tbody tr th {\n",
       "        vertical-align: top;\n",
       "    }\n",
       "\n",
       "    .dataframe thead th {\n",
       "        text-align: right;\n",
       "    }\n",
       "</style>\n",
       "<table border=\"1\" class=\"dataframe\">\n",
       "  <thead>\n",
       "    <tr style=\"text-align: right;\">\n",
       "      <th></th>\n",
       "      <th>user_id</th>\n",
       "      <th>order_id</th>\n",
       "      <th>product_id</th>\n",
       "      <th>product_name</th>\n",
       "      <th>reordered</th>\n",
       "    </tr>\n",
       "  </thead>\n",
       "  <tbody>\n",
       "    <tr>\n",
       "      <th>0</th>\n",
       "      <td>183418</td>\n",
       "      <td>1515936</td>\n",
       "      <td>19048</td>\n",
       "      <td>ORGANIC BUTTERNUT SQUASH</td>\n",
       "      <td>1</td>\n",
       "    </tr>\n",
       "    <tr>\n",
       "      <th>1</th>\n",
       "      <td>183418</td>\n",
       "      <td>1515936</td>\n",
       "      <td>47766</td>\n",
       "      <td>ORGANIC AVOCADO</td>\n",
       "      <td>1</td>\n",
       "    </tr>\n",
       "    <tr>\n",
       "      <th>2</th>\n",
       "      <td>183418</td>\n",
       "      <td>1515936</td>\n",
       "      <td>45066</td>\n",
       "      <td>HONEYCRISP APPLE</td>\n",
       "      <td>0</td>\n",
       "    </tr>\n",
       "    <tr>\n",
       "      <th>3</th>\n",
       "      <td>183418</td>\n",
       "      <td>1515936</td>\n",
       "      <td>24082</td>\n",
       "      <td>ORGANIC DARK SWEET CHERRIES</td>\n",
       "      <td>0</td>\n",
       "    </tr>\n",
       "    <tr>\n",
       "      <th>4</th>\n",
       "      <td>183418</td>\n",
       "      <td>1515936</td>\n",
       "      <td>24363</td>\n",
       "      <td>LEMON CAYENNE AGAVE COLD PRESSED JUICE BEVERAGE</td>\n",
       "      <td>0</td>\n",
       "    </tr>\n",
       "  </tbody>\n",
       "</table>\n",
       "</div>"
      ],
      "text/plain": [
       "   user_id  order_id  product_id  \\\n",
       "0   183418   1515936       19048   \n",
       "1   183418   1515936       47766   \n",
       "2   183418   1515936       45066   \n",
       "3   183418   1515936       24082   \n",
       "4   183418   1515936       24363   \n",
       "\n",
       "                                      product_name  reordered  \n",
       "0                         ORGANIC BUTTERNUT SQUASH          1  \n",
       "1                                  ORGANIC AVOCADO          1  \n",
       "2                                 HONEYCRISP APPLE          0  \n",
       "3                      ORGANIC DARK SWEET CHERRIES          0  \n",
       "4  LEMON CAYENNE AGAVE COLD PRESSED JUICE BEVERAGE          0  "
      ]
     },
     "metadata": {},
     "output_type": "display_data"
    }
   ],
   "source": [
    "merged_df = df_orders.merge(df_or_pr, on='order_id', how='inner')\n",
    "final_df = merged_df.merge(df_products[['product_id', 'product_name']], on='product_id', how='left')\n",
    "result_df = final_df[['user_id', 'order_id', 'product_id', 'product_name', 'reordered']]\n",
    "display(result_df.head())"
   ]
  },
  {
   "cell_type": "code",
   "execution_count": 64,
   "id": "faf4f0ae",
   "metadata": {},
   "outputs": [
    {
     "name": "stdout",
     "output_type": "stream",
     "text": [
      "        user_id  proporcion_reordenados\n",
      "0             2                0.040000\n",
      "1             4                0.000000\n",
      "2             5                0.666667\n",
      "3             6                0.000000\n",
      "4             7                0.923077\n",
      "...         ...                     ...\n",
      "149621   206203                0.222222\n",
      "149622   206206                0.705882\n",
      "149623   206207                0.848485\n",
      "149624   206208                0.612500\n",
      "149625   206209                0.320000\n",
      "\n",
      "[149626 rows x 2 columns]\n"
     ]
    }
   ],
   "source": [
    "# Paso 1: Calcular la cantidad total de productos pedidos por cada usuario\n",
    "total_products_per_user = result_df.groupby('user_id')['product_id'].nunique().reset_index()\n",
    "total_products_per_user = total_products_per_user.rename(columns={'product_id': 'total_products'})\n",
    "\n",
    "# Paso 2: Calcular la cantidad de productos reordenados por cada usuario\n",
    "reordered_products = result_df[result_df['reordered'] == 1]\n",
    "reordered_products_per_user = reordered_products.groupby('user_id')['product_id'].nunique().reset_index()\n",
    "reordered_products_per_user = reordered_products_per_user.rename(columns={'product_id': 'reordered_products'})\n",
    "\n",
    "# Paso 3: Calcular la proporción de productos reordenados para cada usuario\n",
    "merged_df = total_products_per_user.merge(reordered_products_per_user, on='user_id', how='left')\n",
    "merged_df['reordered_products'] = merged_df['reordered_products'].fillna(0)\n",
    "merged_df['proporcion_reordenados'] = merged_df['reordered_products'] / merged_df['total_products']\n",
    "\n",
    "# Resultado final con la proporción de productos reordenados para cada usuario\n",
    "proporcion_df = merged_df[['user_id', 'proporcion_reordenados']]\n",
    "\n",
    "# Muestra las primeras filas del resultado\n",
    "print(proporcion_df)\n"
   ]
  },
  {
   "cell_type": "code",
   "execution_count": 65,
   "id": "45331819",
   "metadata": {},
   "outputs": [
    {
     "data": {
      "image/png": "[encoded data removed]",
      "text/plain": [
       "<Figure size 720x720 with 1 Axes>"
      ]
     },
     "metadata": {
      "needs_background": "light"
     },
     "output_type": "display_data"
    }
   ],
   "source": [
    "proporcion_df.plot(title= 'proporción de productos que ya se habian pedido', style='o',\n",
    "        xlabel='user_id',ylabel='Proporcion de productos reordenados',xlim=[0,50],ylim=[0,1],\n",
    "       figsize=[10,10])\n",
    "\n",
    "\n",
    "plt.show()"
   ]
  },
  {
   "cell_type": "markdown",
   "id": "BgJSvXDsleXz",
   "metadata": {
    "id": "BgJSvXDsleXz"
   },
   "source": [
    "Escribe aquí tus conclusiones\n",
    "Tenemos clientes de todo tipo, desde los que reordenan bastante hasta los que no reordenan nunca, esto se puede comprobar con la tabla en la que todos los puntos estan dispersos."
   ]
  },
  {
   "cell_type": "markdown",
   "id": "94af381b",
   "metadata": {},
   "source": [
    "<div class=\"alert alert-block alert-warning\">\n",
    "<b>Comentario del revisor #2</b> <a class=\"tocSkip\"></a>\n",
    "    \n",
    "~~Revisa el orden del punto.~~</div>"
   ]
  },
  {
   "cell_type": "markdown",
   "id": "4d501595",
   "metadata": {},
   "source": [
    "<div class=\"alert alert-block alert-success\">\n",
    "<b>Comentario del revisor #3</b> <a class=\"tocSkip\"></a>\n",
    "    \n",
    "Buen trabajo.</div>"
   ]
  },
  {
   "cell_type": "markdown",
   "id": "92d35137",
   "metadata": {
    "id": "92d35137"
   },
   "source": [
    "### [C5] ¿Cuáles son los 20 principales artículos que las personas ponen primero en sus carritos?"
   ]
  },
  {
   "cell_type": "code",
   "execution_count": 60,
   "id": "0ae57274",
   "metadata": {
    "id": "0ae57274",
    "scrolled": true
   },
   "outputs": [],
   "source": [
    "productos_carrito = df_or_pr[df_or_pr['add_to_cart_order'] == 1]\n",
    "produc_primero_en_carrito = productos_carrito['product_id'].value_counts().head(20)"
   ]
  },
  {
   "cell_type": "code",
   "execution_count": 61,
   "id": "forty-netherlands",
   "metadata": {
    "id": "forty-netherlands",
    "scrolled": true
   },
   "outputs": [],
   "source": [
    "produc_primero_en_carrito = produc_primero_en_carrito.reset_index()\n",
    "produc_primero_en_carrito.columns = ['product_id', 'frecuencia']\n",
    "produc_primero_en_carrito = produc_primero_en_carrito.merge(df_products[['product_id', 'product_name']], on='product_id', how='left')\n",
    "produc_primero_en_carrito = produc_primero_en_carrito[['product_id', 'product_name', 'frecuencia']]\n"
   ]
  },
  {
   "cell_type": "code",
   "execution_count": 62,
   "id": "08e41ec2",
   "metadata": {
    "id": "08e41ec2"
   },
   "outputs": [
    {
     "name": "stdout",
     "output_type": "stream",
     "text": [
      "    product_id                 product_name  frecuencia\n",
      "0        24852                       BANANA       15562\n",
      "1        13176       BAG OF ORGANIC BANANAS       11026\n",
      "2        27845           ORGANIC WHOLE MILK        4363\n",
      "3        21137         ORGANIC STRAWBERRIES        3946\n",
      "4        47209         ORGANIC HASS AVOCADO        3390\n",
      "5        21903         ORGANIC BABY SPINACH        3336\n",
      "6        47766              ORGANIC AVOCADO        3044\n",
      "7        19660                 SPRING WATER        2336\n",
      "8        16797                 STRAWBERRIES        2308\n",
      "9        27966          ORGANIC RASPBERRIES        2024\n",
      "10       44632   SPARKLING WATER GRAPEFRUIT        1914\n",
      "11       49235          ORGANIC HALF & HALF        1797\n",
      "12       47626                  LARGE LEMON        1737\n",
      "13         196                         SODA        1733\n",
      "14       38689     ORGANIC REDUCED FAT MILK        1397\n",
      "15       26209                        LIMES        1370\n",
      "16       12341                HASS AVOCADOS        1340\n",
      "17        5785  ORGANIC REDUCED FAT 2% MILK        1310\n",
      "18       27086                  HALF & HALF        1309\n",
      "19       22935         ORGANIC YELLOW ONION        1246\n"
     ]
    }
   ],
   "source": [
    "print(produc_primero_en_carrito)"
   ]
  },
  {
   "cell_type": "markdown",
   "id": "28ce9872",
   "metadata": {
    "id": "28ce9872"
   },
   "source": [
    "Escribe aquí tus conclusiones\n",
    "Al parecer las personas que compran en esta aplicacion adoran las bananas, son las primeras que ponen y las mas famosas"
   ]
  },
  {
   "cell_type": "markdown",
   "id": "uITbFCEoDosC",
   "metadata": {
    "id": "uITbFCEoDosC"
   },
   "source": [
    "### Conclusion general del proyecto:"
   ]
  },
  {
   "cell_type": "markdown",
   "id": "486b3acd",
   "metadata": {
    "id": "Nk-4GS7mDwqY"
   },
   "source": [
    "Ha sido bastante complejo y largo el proceso de todo este proyecto pero ha sido satisfactorio poder obter los datos que se buscaban e ir analizando cada resultado lo cual hace que pienses mas en si estas haciendo las cosas correctamente o si estas haciendo  proceso correcto.\n",
    "Ademas pudimos comprobar que:\n",
    "1. Las bananas son las favoritas del publico en general, siento estas las primeras que se ponen en el carrito y las primeras que la gente reordena.\n",
    "2. Tenemos todo tipo de clientes, desde los que reordenan de manera frecuente, que ordenan grandes cantidades, hasta los que no lo vuelven a hacer nunca una orden, o solo ordenan un producto.\n",
    "3. De 9am a 6pm de la tarde no es bueno pedir un producto si quieres que se te sea entregado rapido ya que en estos horarios es cuando mayor flujo de gente tenemos, en especial si es dia domingo o lunes."
   ]
  },
  {
   "cell_type": "markdown",
   "id": "1b72ecfb",
   "metadata": {},
   "source": [
    "<div class=\"alert alert-block alert-danger\">\n",
    "<b>Comentario del revisor #2</b> <a class=\"tocSkip\"></a>\n",
    "    \n",
    "Es importante que dentro de las conclusiones generaels tambien incluyas aspectos propios de lo entendido sobre los datos. en ultimas es un forma concreta de responder a las diferentes incógnitas que se tenían sobre los datos al principio del proyecto.</div>"
   ]
  },
  {
   "cell_type": "markdown",
   "id": "d8013f98",
   "metadata": {},
   "source": [
    "<div class=\"alert alert-block alert-danger\">\n",
    "<b>Comentario del revisor</b> <a class=\"tocSkip\"></a>\n",
    "    \n",
    "# Comentario General \n",
    "    \n",
    "~~Realizas un buen trabajo con la revisión de los valores nulos en las diferentes tablas; sin embargo, debes tener en cuenta corregir el error de código para que podamos continuar con la revisión exitosa del proyecto.~~\n",
    "</div>\n",
    "\n",
    "<div class=\"alert alert-block alert-danger\">\n",
    "<b>Comentario del revisor</b> <a class=\"tocSkip\"></a>\n",
    "    \n",
    "# Comentario General #2\n",
    "    \n",
    "~~Buen trabajo Angel. He dejado nuevos comentarios etiquetados con el #2 para que puedas tener en cuenta.~~\n",
    "</div>\n",
    "\n",
    "<div class=\"alert alert-block alert-success\">\n",
    "<b>Comentario del revisor</b> <a class=\"tocSkip\"></a>\n",
    "    \n",
    "# Comentario General #3\n",
    "    \n",
    "Buen trabajo Angel, te felicito por la culminación del proyecto.</div>"
   ]
  }
 ],
 "metadata": {
  "colab": {
   "provenance": []
  },
  "kernelspec": {
   "display_name": "Python 3 (ipykernel)",
   "language": "python",
   "name": "python3"
  },
  "language_info": {
   "codemirror_mode": {
    "name": "ipython",
    "version": 3
   },
   "file_extension": ".py",
   "mimetype": "text/x-python",
   "name": "python",
   "nbconvert_exporter": "python",
   "pygments_lexer": "ipython3",
   "version": "3.9.19"
  },
  "toc": {
   "base_numbering": 1,
   "nav_menu": {},
   "number_sections": true,
   "sideBar": true,
   "skip_h1_title": true,
   "title_cell": "Table of Contents",
   "title_sidebar": "Contents",
   "toc_cell": false,
   "toc_position": {
    "height": "434.4px",
    "left": "36px",
    "top": "110.525px",
    "width": "291.2px"
   },
   "toc_section_display": true,
   "toc_window_display": false
  },
  "vscode": {
   "interpreter": {
    "hash": "01a7be9ec63e704a62cefc5fe7a4756944464ee731be31632bdf42a4cb4688cf"
   }
  }
 },
 "nbformat": 4,
 "nbformat_minor": 5
}
